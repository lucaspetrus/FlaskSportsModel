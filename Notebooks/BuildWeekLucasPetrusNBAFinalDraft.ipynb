{
 "cells": [
  {
   "cell_type": "markdown",
   "metadata": {
    "id": "nCc3XZEyG3XV"
   },
   "source": [
    "# Model Interpretation\n",
    "\n",
    "You will use your portfolio project dataset for all assignments this sprint.\n",
    "\n",
    "## Assignment\n",
    "\n",
    "Complete these tasks for your project, and document your work.\n",
    "\n",
    "- [ ] Continue to iterate on your project: data cleaning, exploratory visualization, feature engineering, modeling.\n",
    "- [ ] Make at least 1 partial dependence plot to explain your model.\n",
    "- [ ] Make at least 1 Shapley force plot to explain an individual prediction.\n",
    "- [ ] **Share at least 1 visualization (of any type) on Slack!**\n",
    "\n",
    "If you aren't ready to make these plots with your own dataset, you can practice these objectives with any dataset you've worked with previously. Example solutions are available for Partial Dependence Plots with the Tanzania Waterpumps dataset, and Shapley force plots with the Titanic dataset. (These datasets are available in the data directory of this repository.)\n",
    "\n",
    "Please be aware that **multi-class classification** will result in multiple Partial Dependence Plots (one for each class), and multiple sets of Shapley Values (one for each class)."
   ]
  },
  {
   "cell_type": "markdown",
   "metadata": {
    "id": "AXQxxs0ROEY1"
   },
   "source": []
  },
  {
   "cell_type": "markdown",
   "metadata": {
    "id": "c6p1Uf79OEjd"
   },
   "source": [
    "The score I would get for just guessing would be 50.00% accuracy"
   ]
  },
  {
   "cell_type": "code",
   "execution_count": 1,
   "metadata": {
    "id": "Isv0IUi9Bont"
   },
   "outputs": [],
   "source": [
    "import pandas as pd"
   ]
  },
  {
   "cell_type": "code",
   "execution_count": 2,
   "metadata": {
    "id": "_-tS9MxhB1ht"
   },
   "outputs": [],
   "source": [
    "df = pd.read_csv('https://raw.githubusercontent.com/Lucas-Petrus/DS-Unit-2-Applied-Modeling/master/data/nba.games.stats.csv%20-%20Sheet1.csv')"
   ]
  },
  {
   "cell_type": "code",
   "execution_count": 3,
   "metadata": {
    "id": "gRJtpYVLCbj4"
   },
   "outputs": [],
   "source": [
    "df = df.drop(columns={'Unnamed: 0'}, axis=1)"
   ]
  },
  {
   "cell_type": "code",
   "execution_count": 4,
   "metadata": {
    "id": "dydA3q0rC8wl"
   },
   "outputs": [],
   "source": [
    "df = df.drop(columns={'TeamPoints','OpponentPoints','Game','FieldGoals',\n",
    "                      'FieldGoals.','X3PointShots','X3PointShots.','FreeThrows',\n",
    "                      'Opp.FieldGoals','Opp.FieldGoals.','Opp.3PointShots',\n",
    "                      'Opp.3PointShots.','Opp.FreeThrows'}, axis=1,)"
   ]
  },
  {
   "cell_type": "code",
   "execution_count": 5,
   "metadata": {
    "colab": {
     "base_uri": "https://localhost:8080/",
     "height": 309
    },
    "id": "IkytbRm-IWem",
    "outputId": "a3d4b856-adc6-4256-8164-8260c8ade379"
   },
   "outputs": [
    {
     "data": {
      "text/html": [
       "<div>\n",
       "<style scoped>\n",
       "    .dataframe tbody tr th:only-of-type {\n",
       "        vertical-align: middle;\n",
       "    }\n",
       "\n",
       "    .dataframe tbody tr th {\n",
       "        vertical-align: top;\n",
       "    }\n",
       "\n",
       "    .dataframe thead th {\n",
       "        text-align: right;\n",
       "    }\n",
       "</style>\n",
       "<table border=\"1\" class=\"dataframe\">\n",
       "  <thead>\n",
       "    <tr style=\"text-align: right;\">\n",
       "      <th></th>\n",
       "      <th>Team</th>\n",
       "      <th>Date</th>\n",
       "      <th>Home</th>\n",
       "      <th>Opponent</th>\n",
       "      <th>WINorLOSS</th>\n",
       "      <th>FieldGoalsAttempted</th>\n",
       "      <th>X3PointShotsAttempted</th>\n",
       "      <th>FreeThrowsAttempted</th>\n",
       "      <th>FreeThrows.</th>\n",
       "      <th>OffRebounds</th>\n",
       "      <th>...</th>\n",
       "      <th>Opp.3PointShotsAttempted</th>\n",
       "      <th>Opp.FreeThrowsAttempted</th>\n",
       "      <th>Opp.FreeThrows.</th>\n",
       "      <th>Opp.OffRebounds</th>\n",
       "      <th>Opp.TotalRebounds</th>\n",
       "      <th>Opp.Assists</th>\n",
       "      <th>Opp.Steals</th>\n",
       "      <th>Opp.Blocks</th>\n",
       "      <th>Opp.Turnovers</th>\n",
       "      <th>Opp.TotalFouls</th>\n",
       "    </tr>\n",
       "  </thead>\n",
       "  <tbody>\n",
       "    <tr>\n",
       "      <th>0</th>\n",
       "      <td>ATL</td>\n",
       "      <td>2014-10-29</td>\n",
       "      <td>Away</td>\n",
       "      <td>TOR</td>\n",
       "      <td>L</td>\n",
       "      <td>80</td>\n",
       "      <td>22</td>\n",
       "      <td>17</td>\n",
       "      <td>0.529</td>\n",
       "      <td>10</td>\n",
       "      <td>...</td>\n",
       "      <td>26</td>\n",
       "      <td>33</td>\n",
       "      <td>0.818</td>\n",
       "      <td>16</td>\n",
       "      <td>48</td>\n",
       "      <td>26</td>\n",
       "      <td>13</td>\n",
       "      <td>9</td>\n",
       "      <td>9</td>\n",
       "      <td>22</td>\n",
       "    </tr>\n",
       "    <tr>\n",
       "      <th>1</th>\n",
       "      <td>ATL</td>\n",
       "      <td>2014-11-01</td>\n",
       "      <td>Home</td>\n",
       "      <td>IND</td>\n",
       "      <td>W</td>\n",
       "      <td>69</td>\n",
       "      <td>20</td>\n",
       "      <td>33</td>\n",
       "      <td>0.758</td>\n",
       "      <td>3</td>\n",
       "      <td>...</td>\n",
       "      <td>32</td>\n",
       "      <td>21</td>\n",
       "      <td>0.857</td>\n",
       "      <td>11</td>\n",
       "      <td>44</td>\n",
       "      <td>25</td>\n",
       "      <td>5</td>\n",
       "      <td>5</td>\n",
       "      <td>18</td>\n",
       "      <td>26</td>\n",
       "    </tr>\n",
       "    <tr>\n",
       "      <th>2</th>\n",
       "      <td>ATL</td>\n",
       "      <td>2014-11-05</td>\n",
       "      <td>Away</td>\n",
       "      <td>SAS</td>\n",
       "      <td>L</td>\n",
       "      <td>92</td>\n",
       "      <td>25</td>\n",
       "      <td>11</td>\n",
       "      <td>0.727</td>\n",
       "      <td>10</td>\n",
       "      <td>...</td>\n",
       "      <td>17</td>\n",
       "      <td>38</td>\n",
       "      <td>0.711</td>\n",
       "      <td>11</td>\n",
       "      <td>50</td>\n",
       "      <td>25</td>\n",
       "      <td>7</td>\n",
       "      <td>9</td>\n",
       "      <td>19</td>\n",
       "      <td>15</td>\n",
       "    </tr>\n",
       "    <tr>\n",
       "      <th>3</th>\n",
       "      <td>ATL</td>\n",
       "      <td>2014-11-07</td>\n",
       "      <td>Away</td>\n",
       "      <td>CHO</td>\n",
       "      <td>L</td>\n",
       "      <td>93</td>\n",
       "      <td>33</td>\n",
       "      <td>26</td>\n",
       "      <td>0.769</td>\n",
       "      <td>7</td>\n",
       "      <td>...</td>\n",
       "      <td>21</td>\n",
       "      <td>27</td>\n",
       "      <td>0.741</td>\n",
       "      <td>11</td>\n",
       "      <td>51</td>\n",
       "      <td>31</td>\n",
       "      <td>6</td>\n",
       "      <td>7</td>\n",
       "      <td>19</td>\n",
       "      <td>30</td>\n",
       "    </tr>\n",
       "    <tr>\n",
       "      <th>4</th>\n",
       "      <td>ATL</td>\n",
       "      <td>2014-11-08</td>\n",
       "      <td>Home</td>\n",
       "      <td>NYK</td>\n",
       "      <td>W</td>\n",
       "      <td>81</td>\n",
       "      <td>22</td>\n",
       "      <td>36</td>\n",
       "      <td>0.778</td>\n",
       "      <td>12</td>\n",
       "      <td>...</td>\n",
       "      <td>21</td>\n",
       "      <td>11</td>\n",
       "      <td>0.727</td>\n",
       "      <td>13</td>\n",
       "      <td>44</td>\n",
       "      <td>26</td>\n",
       "      <td>2</td>\n",
       "      <td>6</td>\n",
       "      <td>15</td>\n",
       "      <td>29</td>\n",
       "    </tr>\n",
       "  </tbody>\n",
       "</table>\n",
       "<p>5 rows × 27 columns</p>\n",
       "</div>"
      ],
      "text/plain": [
       "  Team        Date  Home Opponent WINorLOSS  FieldGoalsAttempted  \\\n",
       "0  ATL  2014-10-29  Away      TOR         L                   80   \n",
       "1  ATL  2014-11-01  Home      IND         W                   69   \n",
       "2  ATL  2014-11-05  Away      SAS         L                   92   \n",
       "3  ATL  2014-11-07  Away      CHO         L                   93   \n",
       "4  ATL  2014-11-08  Home      NYK         W                   81   \n",
       "\n",
       "   X3PointShotsAttempted  FreeThrowsAttempted  FreeThrows.  OffRebounds  ...  \\\n",
       "0                     22                   17        0.529           10  ...   \n",
       "1                     20                   33        0.758            3  ...   \n",
       "2                     25                   11        0.727           10  ...   \n",
       "3                     33                   26        0.769            7  ...   \n",
       "4                     22                   36        0.778           12  ...   \n",
       "\n",
       "   Opp.3PointShotsAttempted  Opp.FreeThrowsAttempted  Opp.FreeThrows.  \\\n",
       "0                        26                       33            0.818   \n",
       "1                        32                       21            0.857   \n",
       "2                        17                       38            0.711   \n",
       "3                        21                       27            0.741   \n",
       "4                        21                       11            0.727   \n",
       "\n",
       "   Opp.OffRebounds  Opp.TotalRebounds  Opp.Assists  Opp.Steals  Opp.Blocks  \\\n",
       "0               16                 48           26          13           9   \n",
       "1               11                 44           25           5           5   \n",
       "2               11                 50           25           7           9   \n",
       "3               11                 51           31           6           7   \n",
       "4               13                 44           26           2           6   \n",
       "\n",
       "   Opp.Turnovers  Opp.TotalFouls  \n",
       "0              9              22  \n",
       "1             18              26  \n",
       "2             19              15  \n",
       "3             19              30  \n",
       "4             15              29  \n",
       "\n",
       "[5 rows x 27 columns]"
      ]
     },
     "execution_count": 5,
     "metadata": {},
     "output_type": "execute_result"
    }
   ],
   "source": [
    "df.head()"
   ]
  },
  {
   "cell_type": "code",
   "execution_count": 6,
   "metadata": {
    "id": "qLHkiaHaIXJo"
   },
   "outputs": [],
   "source": [
    "df.rename(columns={'WINorLOSS':'WINNER'}, inplace=True)"
   ]
  },
  {
   "cell_type": "code",
   "execution_count": 7,
   "metadata": {
    "colab": {
     "base_uri": "https://localhost:8080/",
     "height": 309
    },
    "id": "QqO2bGl_ImQf",
    "outputId": "4a10103a-7669-46a3-dbff-8e6ec7626773"
   },
   "outputs": [
    {
     "data": {
      "text/html": [
       "<div>\n",
       "<style scoped>\n",
       "    .dataframe tbody tr th:only-of-type {\n",
       "        vertical-align: middle;\n",
       "    }\n",
       "\n",
       "    .dataframe tbody tr th {\n",
       "        vertical-align: top;\n",
       "    }\n",
       "\n",
       "    .dataframe thead th {\n",
       "        text-align: right;\n",
       "    }\n",
       "</style>\n",
       "<table border=\"1\" class=\"dataframe\">\n",
       "  <thead>\n",
       "    <tr style=\"text-align: right;\">\n",
       "      <th></th>\n",
       "      <th>Team</th>\n",
       "      <th>Date</th>\n",
       "      <th>Home</th>\n",
       "      <th>Opponent</th>\n",
       "      <th>WINNER</th>\n",
       "      <th>FieldGoalsAttempted</th>\n",
       "      <th>X3PointShotsAttempted</th>\n",
       "      <th>FreeThrowsAttempted</th>\n",
       "      <th>FreeThrows.</th>\n",
       "      <th>OffRebounds</th>\n",
       "      <th>...</th>\n",
       "      <th>Opp.3PointShotsAttempted</th>\n",
       "      <th>Opp.FreeThrowsAttempted</th>\n",
       "      <th>Opp.FreeThrows.</th>\n",
       "      <th>Opp.OffRebounds</th>\n",
       "      <th>Opp.TotalRebounds</th>\n",
       "      <th>Opp.Assists</th>\n",
       "      <th>Opp.Steals</th>\n",
       "      <th>Opp.Blocks</th>\n",
       "      <th>Opp.Turnovers</th>\n",
       "      <th>Opp.TotalFouls</th>\n",
       "    </tr>\n",
       "  </thead>\n",
       "  <tbody>\n",
       "    <tr>\n",
       "      <th>0</th>\n",
       "      <td>ATL</td>\n",
       "      <td>2014-10-29</td>\n",
       "      <td>Away</td>\n",
       "      <td>TOR</td>\n",
       "      <td>L</td>\n",
       "      <td>80</td>\n",
       "      <td>22</td>\n",
       "      <td>17</td>\n",
       "      <td>0.529</td>\n",
       "      <td>10</td>\n",
       "      <td>...</td>\n",
       "      <td>26</td>\n",
       "      <td>33</td>\n",
       "      <td>0.818</td>\n",
       "      <td>16</td>\n",
       "      <td>48</td>\n",
       "      <td>26</td>\n",
       "      <td>13</td>\n",
       "      <td>9</td>\n",
       "      <td>9</td>\n",
       "      <td>22</td>\n",
       "    </tr>\n",
       "    <tr>\n",
       "      <th>1</th>\n",
       "      <td>ATL</td>\n",
       "      <td>2014-11-01</td>\n",
       "      <td>Home</td>\n",
       "      <td>IND</td>\n",
       "      <td>W</td>\n",
       "      <td>69</td>\n",
       "      <td>20</td>\n",
       "      <td>33</td>\n",
       "      <td>0.758</td>\n",
       "      <td>3</td>\n",
       "      <td>...</td>\n",
       "      <td>32</td>\n",
       "      <td>21</td>\n",
       "      <td>0.857</td>\n",
       "      <td>11</td>\n",
       "      <td>44</td>\n",
       "      <td>25</td>\n",
       "      <td>5</td>\n",
       "      <td>5</td>\n",
       "      <td>18</td>\n",
       "      <td>26</td>\n",
       "    </tr>\n",
       "    <tr>\n",
       "      <th>2</th>\n",
       "      <td>ATL</td>\n",
       "      <td>2014-11-05</td>\n",
       "      <td>Away</td>\n",
       "      <td>SAS</td>\n",
       "      <td>L</td>\n",
       "      <td>92</td>\n",
       "      <td>25</td>\n",
       "      <td>11</td>\n",
       "      <td>0.727</td>\n",
       "      <td>10</td>\n",
       "      <td>...</td>\n",
       "      <td>17</td>\n",
       "      <td>38</td>\n",
       "      <td>0.711</td>\n",
       "      <td>11</td>\n",
       "      <td>50</td>\n",
       "      <td>25</td>\n",
       "      <td>7</td>\n",
       "      <td>9</td>\n",
       "      <td>19</td>\n",
       "      <td>15</td>\n",
       "    </tr>\n",
       "    <tr>\n",
       "      <th>3</th>\n",
       "      <td>ATL</td>\n",
       "      <td>2014-11-07</td>\n",
       "      <td>Away</td>\n",
       "      <td>CHO</td>\n",
       "      <td>L</td>\n",
       "      <td>93</td>\n",
       "      <td>33</td>\n",
       "      <td>26</td>\n",
       "      <td>0.769</td>\n",
       "      <td>7</td>\n",
       "      <td>...</td>\n",
       "      <td>21</td>\n",
       "      <td>27</td>\n",
       "      <td>0.741</td>\n",
       "      <td>11</td>\n",
       "      <td>51</td>\n",
       "      <td>31</td>\n",
       "      <td>6</td>\n",
       "      <td>7</td>\n",
       "      <td>19</td>\n",
       "      <td>30</td>\n",
       "    </tr>\n",
       "    <tr>\n",
       "      <th>4</th>\n",
       "      <td>ATL</td>\n",
       "      <td>2014-11-08</td>\n",
       "      <td>Home</td>\n",
       "      <td>NYK</td>\n",
       "      <td>W</td>\n",
       "      <td>81</td>\n",
       "      <td>22</td>\n",
       "      <td>36</td>\n",
       "      <td>0.778</td>\n",
       "      <td>12</td>\n",
       "      <td>...</td>\n",
       "      <td>21</td>\n",
       "      <td>11</td>\n",
       "      <td>0.727</td>\n",
       "      <td>13</td>\n",
       "      <td>44</td>\n",
       "      <td>26</td>\n",
       "      <td>2</td>\n",
       "      <td>6</td>\n",
       "      <td>15</td>\n",
       "      <td>29</td>\n",
       "    </tr>\n",
       "  </tbody>\n",
       "</table>\n",
       "<p>5 rows × 27 columns</p>\n",
       "</div>"
      ],
      "text/plain": [
       "  Team        Date  Home Opponent WINNER  FieldGoalsAttempted  \\\n",
       "0  ATL  2014-10-29  Away      TOR      L                   80   \n",
       "1  ATL  2014-11-01  Home      IND      W                   69   \n",
       "2  ATL  2014-11-05  Away      SAS      L                   92   \n",
       "3  ATL  2014-11-07  Away      CHO      L                   93   \n",
       "4  ATL  2014-11-08  Home      NYK      W                   81   \n",
       "\n",
       "   X3PointShotsAttempted  FreeThrowsAttempted  FreeThrows.  OffRebounds  ...  \\\n",
       "0                     22                   17        0.529           10  ...   \n",
       "1                     20                   33        0.758            3  ...   \n",
       "2                     25                   11        0.727           10  ...   \n",
       "3                     33                   26        0.769            7  ...   \n",
       "4                     22                   36        0.778           12  ...   \n",
       "\n",
       "   Opp.3PointShotsAttempted  Opp.FreeThrowsAttempted  Opp.FreeThrows.  \\\n",
       "0                        26                       33            0.818   \n",
       "1                        32                       21            0.857   \n",
       "2                        17                       38            0.711   \n",
       "3                        21                       27            0.741   \n",
       "4                        21                       11            0.727   \n",
       "\n",
       "   Opp.OffRebounds  Opp.TotalRebounds  Opp.Assists  Opp.Steals  Opp.Blocks  \\\n",
       "0               16                 48           26          13           9   \n",
       "1               11                 44           25           5           5   \n",
       "2               11                 50           25           7           9   \n",
       "3               11                 51           31           6           7   \n",
       "4               13                 44           26           2           6   \n",
       "\n",
       "   Opp.Turnovers  Opp.TotalFouls  \n",
       "0              9              22  \n",
       "1             18              26  \n",
       "2             19              15  \n",
       "3             19              30  \n",
       "4             15              29  \n",
       "\n",
       "[5 rows x 27 columns]"
      ]
     },
     "execution_count": 7,
     "metadata": {},
     "output_type": "execute_result"
    }
   ],
   "source": [
    "df.head()"
   ]
  },
  {
   "cell_type": "code",
   "execution_count": 8,
   "metadata": {
    "id": "qGYmFd7pI1GO"
   },
   "outputs": [],
   "source": [
    "df['WINNER'] = df['WINNER'] == 'W'"
   ]
  },
  {
   "cell_type": "code",
   "execution_count": 9,
   "metadata": {
    "colab": {
     "base_uri": "https://localhost:8080/",
     "height": 309
    },
    "id": "wktzTzH-KMdp",
    "outputId": "7d4a229f-95dc-4a25-bc58-61d6ca2c73f0"
   },
   "outputs": [
    {
     "data": {
      "text/html": [
       "<div>\n",
       "<style scoped>\n",
       "    .dataframe tbody tr th:only-of-type {\n",
       "        vertical-align: middle;\n",
       "    }\n",
       "\n",
       "    .dataframe tbody tr th {\n",
       "        vertical-align: top;\n",
       "    }\n",
       "\n",
       "    .dataframe thead th {\n",
       "        text-align: right;\n",
       "    }\n",
       "</style>\n",
       "<table border=\"1\" class=\"dataframe\">\n",
       "  <thead>\n",
       "    <tr style=\"text-align: right;\">\n",
       "      <th></th>\n",
       "      <th>Team</th>\n",
       "      <th>Date</th>\n",
       "      <th>Home</th>\n",
       "      <th>Opponent</th>\n",
       "      <th>WINNER</th>\n",
       "      <th>FieldGoalsAttempted</th>\n",
       "      <th>X3PointShotsAttempted</th>\n",
       "      <th>FreeThrowsAttempted</th>\n",
       "      <th>FreeThrows.</th>\n",
       "      <th>OffRebounds</th>\n",
       "      <th>...</th>\n",
       "      <th>Opp.3PointShotsAttempted</th>\n",
       "      <th>Opp.FreeThrowsAttempted</th>\n",
       "      <th>Opp.FreeThrows.</th>\n",
       "      <th>Opp.OffRebounds</th>\n",
       "      <th>Opp.TotalRebounds</th>\n",
       "      <th>Opp.Assists</th>\n",
       "      <th>Opp.Steals</th>\n",
       "      <th>Opp.Blocks</th>\n",
       "      <th>Opp.Turnovers</th>\n",
       "      <th>Opp.TotalFouls</th>\n",
       "    </tr>\n",
       "  </thead>\n",
       "  <tbody>\n",
       "    <tr>\n",
       "      <th>0</th>\n",
       "      <td>ATL</td>\n",
       "      <td>2014-10-29</td>\n",
       "      <td>Away</td>\n",
       "      <td>TOR</td>\n",
       "      <td>False</td>\n",
       "      <td>80</td>\n",
       "      <td>22</td>\n",
       "      <td>17</td>\n",
       "      <td>0.529</td>\n",
       "      <td>10</td>\n",
       "      <td>...</td>\n",
       "      <td>26</td>\n",
       "      <td>33</td>\n",
       "      <td>0.818</td>\n",
       "      <td>16</td>\n",
       "      <td>48</td>\n",
       "      <td>26</td>\n",
       "      <td>13</td>\n",
       "      <td>9</td>\n",
       "      <td>9</td>\n",
       "      <td>22</td>\n",
       "    </tr>\n",
       "    <tr>\n",
       "      <th>1</th>\n",
       "      <td>ATL</td>\n",
       "      <td>2014-11-01</td>\n",
       "      <td>Home</td>\n",
       "      <td>IND</td>\n",
       "      <td>True</td>\n",
       "      <td>69</td>\n",
       "      <td>20</td>\n",
       "      <td>33</td>\n",
       "      <td>0.758</td>\n",
       "      <td>3</td>\n",
       "      <td>...</td>\n",
       "      <td>32</td>\n",
       "      <td>21</td>\n",
       "      <td>0.857</td>\n",
       "      <td>11</td>\n",
       "      <td>44</td>\n",
       "      <td>25</td>\n",
       "      <td>5</td>\n",
       "      <td>5</td>\n",
       "      <td>18</td>\n",
       "      <td>26</td>\n",
       "    </tr>\n",
       "    <tr>\n",
       "      <th>2</th>\n",
       "      <td>ATL</td>\n",
       "      <td>2014-11-05</td>\n",
       "      <td>Away</td>\n",
       "      <td>SAS</td>\n",
       "      <td>False</td>\n",
       "      <td>92</td>\n",
       "      <td>25</td>\n",
       "      <td>11</td>\n",
       "      <td>0.727</td>\n",
       "      <td>10</td>\n",
       "      <td>...</td>\n",
       "      <td>17</td>\n",
       "      <td>38</td>\n",
       "      <td>0.711</td>\n",
       "      <td>11</td>\n",
       "      <td>50</td>\n",
       "      <td>25</td>\n",
       "      <td>7</td>\n",
       "      <td>9</td>\n",
       "      <td>19</td>\n",
       "      <td>15</td>\n",
       "    </tr>\n",
       "    <tr>\n",
       "      <th>3</th>\n",
       "      <td>ATL</td>\n",
       "      <td>2014-11-07</td>\n",
       "      <td>Away</td>\n",
       "      <td>CHO</td>\n",
       "      <td>False</td>\n",
       "      <td>93</td>\n",
       "      <td>33</td>\n",
       "      <td>26</td>\n",
       "      <td>0.769</td>\n",
       "      <td>7</td>\n",
       "      <td>...</td>\n",
       "      <td>21</td>\n",
       "      <td>27</td>\n",
       "      <td>0.741</td>\n",
       "      <td>11</td>\n",
       "      <td>51</td>\n",
       "      <td>31</td>\n",
       "      <td>6</td>\n",
       "      <td>7</td>\n",
       "      <td>19</td>\n",
       "      <td>30</td>\n",
       "    </tr>\n",
       "    <tr>\n",
       "      <th>4</th>\n",
       "      <td>ATL</td>\n",
       "      <td>2014-11-08</td>\n",
       "      <td>Home</td>\n",
       "      <td>NYK</td>\n",
       "      <td>True</td>\n",
       "      <td>81</td>\n",
       "      <td>22</td>\n",
       "      <td>36</td>\n",
       "      <td>0.778</td>\n",
       "      <td>12</td>\n",
       "      <td>...</td>\n",
       "      <td>21</td>\n",
       "      <td>11</td>\n",
       "      <td>0.727</td>\n",
       "      <td>13</td>\n",
       "      <td>44</td>\n",
       "      <td>26</td>\n",
       "      <td>2</td>\n",
       "      <td>6</td>\n",
       "      <td>15</td>\n",
       "      <td>29</td>\n",
       "    </tr>\n",
       "  </tbody>\n",
       "</table>\n",
       "<p>5 rows × 27 columns</p>\n",
       "</div>"
      ],
      "text/plain": [
       "  Team        Date  Home Opponent  WINNER  FieldGoalsAttempted  \\\n",
       "0  ATL  2014-10-29  Away      TOR   False                   80   \n",
       "1  ATL  2014-11-01  Home      IND    True                   69   \n",
       "2  ATL  2014-11-05  Away      SAS   False                   92   \n",
       "3  ATL  2014-11-07  Away      CHO   False                   93   \n",
       "4  ATL  2014-11-08  Home      NYK    True                   81   \n",
       "\n",
       "   X3PointShotsAttempted  FreeThrowsAttempted  FreeThrows.  OffRebounds  ...  \\\n",
       "0                     22                   17        0.529           10  ...   \n",
       "1                     20                   33        0.758            3  ...   \n",
       "2                     25                   11        0.727           10  ...   \n",
       "3                     33                   26        0.769            7  ...   \n",
       "4                     22                   36        0.778           12  ...   \n",
       "\n",
       "   Opp.3PointShotsAttempted  Opp.FreeThrowsAttempted  Opp.FreeThrows.  \\\n",
       "0                        26                       33            0.818   \n",
       "1                        32                       21            0.857   \n",
       "2                        17                       38            0.711   \n",
       "3                        21                       27            0.741   \n",
       "4                        21                       11            0.727   \n",
       "\n",
       "   Opp.OffRebounds  Opp.TotalRebounds  Opp.Assists  Opp.Steals  Opp.Blocks  \\\n",
       "0               16                 48           26          13           9   \n",
       "1               11                 44           25           5           5   \n",
       "2               11                 50           25           7           9   \n",
       "3               11                 51           31           6           7   \n",
       "4               13                 44           26           2           6   \n",
       "\n",
       "   Opp.Turnovers  Opp.TotalFouls  \n",
       "0              9              22  \n",
       "1             18              26  \n",
       "2             19              15  \n",
       "3             19              30  \n",
       "4             15              29  \n",
       "\n",
       "[5 rows x 27 columns]"
      ]
     },
     "execution_count": 9,
     "metadata": {},
     "output_type": "execute_result"
    }
   ],
   "source": [
    "df.head()"
   ]
  },
  {
   "cell_type": "code",
   "execution_count": 10,
   "metadata": {
    "id": "zCrgv1JYKNM1"
   },
   "outputs": [],
   "source": [
    "df['Home'] = df['Home'] =='Home'"
   ]
  },
  {
   "cell_type": "code",
   "execution_count": 11,
   "metadata": {
    "colab": {
     "base_uri": "https://localhost:8080/",
     "height": 309
    },
    "id": "0uZOoCfLKTq8",
    "outputId": "1227f1f7-fec6-49ac-c473-66596db9238d"
   },
   "outputs": [
    {
     "data": {
      "text/html": [
       "<div>\n",
       "<style scoped>\n",
       "    .dataframe tbody tr th:only-of-type {\n",
       "        vertical-align: middle;\n",
       "    }\n",
       "\n",
       "    .dataframe tbody tr th {\n",
       "        vertical-align: top;\n",
       "    }\n",
       "\n",
       "    .dataframe thead th {\n",
       "        text-align: right;\n",
       "    }\n",
       "</style>\n",
       "<table border=\"1\" class=\"dataframe\">\n",
       "  <thead>\n",
       "    <tr style=\"text-align: right;\">\n",
       "      <th></th>\n",
       "      <th>Team</th>\n",
       "      <th>Date</th>\n",
       "      <th>Home</th>\n",
       "      <th>Opponent</th>\n",
       "      <th>WINNER</th>\n",
       "      <th>FieldGoalsAttempted</th>\n",
       "      <th>X3PointShotsAttempted</th>\n",
       "      <th>FreeThrowsAttempted</th>\n",
       "      <th>FreeThrows.</th>\n",
       "      <th>OffRebounds</th>\n",
       "      <th>...</th>\n",
       "      <th>Opp.3PointShotsAttempted</th>\n",
       "      <th>Opp.FreeThrowsAttempted</th>\n",
       "      <th>Opp.FreeThrows.</th>\n",
       "      <th>Opp.OffRebounds</th>\n",
       "      <th>Opp.TotalRebounds</th>\n",
       "      <th>Opp.Assists</th>\n",
       "      <th>Opp.Steals</th>\n",
       "      <th>Opp.Blocks</th>\n",
       "      <th>Opp.Turnovers</th>\n",
       "      <th>Opp.TotalFouls</th>\n",
       "    </tr>\n",
       "  </thead>\n",
       "  <tbody>\n",
       "    <tr>\n",
       "      <th>0</th>\n",
       "      <td>ATL</td>\n",
       "      <td>2014-10-29</td>\n",
       "      <td>False</td>\n",
       "      <td>TOR</td>\n",
       "      <td>False</td>\n",
       "      <td>80</td>\n",
       "      <td>22</td>\n",
       "      <td>17</td>\n",
       "      <td>0.529</td>\n",
       "      <td>10</td>\n",
       "      <td>...</td>\n",
       "      <td>26</td>\n",
       "      <td>33</td>\n",
       "      <td>0.818</td>\n",
       "      <td>16</td>\n",
       "      <td>48</td>\n",
       "      <td>26</td>\n",
       "      <td>13</td>\n",
       "      <td>9</td>\n",
       "      <td>9</td>\n",
       "      <td>22</td>\n",
       "    </tr>\n",
       "    <tr>\n",
       "      <th>1</th>\n",
       "      <td>ATL</td>\n",
       "      <td>2014-11-01</td>\n",
       "      <td>True</td>\n",
       "      <td>IND</td>\n",
       "      <td>True</td>\n",
       "      <td>69</td>\n",
       "      <td>20</td>\n",
       "      <td>33</td>\n",
       "      <td>0.758</td>\n",
       "      <td>3</td>\n",
       "      <td>...</td>\n",
       "      <td>32</td>\n",
       "      <td>21</td>\n",
       "      <td>0.857</td>\n",
       "      <td>11</td>\n",
       "      <td>44</td>\n",
       "      <td>25</td>\n",
       "      <td>5</td>\n",
       "      <td>5</td>\n",
       "      <td>18</td>\n",
       "      <td>26</td>\n",
       "    </tr>\n",
       "    <tr>\n",
       "      <th>2</th>\n",
       "      <td>ATL</td>\n",
       "      <td>2014-11-05</td>\n",
       "      <td>False</td>\n",
       "      <td>SAS</td>\n",
       "      <td>False</td>\n",
       "      <td>92</td>\n",
       "      <td>25</td>\n",
       "      <td>11</td>\n",
       "      <td>0.727</td>\n",
       "      <td>10</td>\n",
       "      <td>...</td>\n",
       "      <td>17</td>\n",
       "      <td>38</td>\n",
       "      <td>0.711</td>\n",
       "      <td>11</td>\n",
       "      <td>50</td>\n",
       "      <td>25</td>\n",
       "      <td>7</td>\n",
       "      <td>9</td>\n",
       "      <td>19</td>\n",
       "      <td>15</td>\n",
       "    </tr>\n",
       "    <tr>\n",
       "      <th>3</th>\n",
       "      <td>ATL</td>\n",
       "      <td>2014-11-07</td>\n",
       "      <td>False</td>\n",
       "      <td>CHO</td>\n",
       "      <td>False</td>\n",
       "      <td>93</td>\n",
       "      <td>33</td>\n",
       "      <td>26</td>\n",
       "      <td>0.769</td>\n",
       "      <td>7</td>\n",
       "      <td>...</td>\n",
       "      <td>21</td>\n",
       "      <td>27</td>\n",
       "      <td>0.741</td>\n",
       "      <td>11</td>\n",
       "      <td>51</td>\n",
       "      <td>31</td>\n",
       "      <td>6</td>\n",
       "      <td>7</td>\n",
       "      <td>19</td>\n",
       "      <td>30</td>\n",
       "    </tr>\n",
       "    <tr>\n",
       "      <th>4</th>\n",
       "      <td>ATL</td>\n",
       "      <td>2014-11-08</td>\n",
       "      <td>True</td>\n",
       "      <td>NYK</td>\n",
       "      <td>True</td>\n",
       "      <td>81</td>\n",
       "      <td>22</td>\n",
       "      <td>36</td>\n",
       "      <td>0.778</td>\n",
       "      <td>12</td>\n",
       "      <td>...</td>\n",
       "      <td>21</td>\n",
       "      <td>11</td>\n",
       "      <td>0.727</td>\n",
       "      <td>13</td>\n",
       "      <td>44</td>\n",
       "      <td>26</td>\n",
       "      <td>2</td>\n",
       "      <td>6</td>\n",
       "      <td>15</td>\n",
       "      <td>29</td>\n",
       "    </tr>\n",
       "  </tbody>\n",
       "</table>\n",
       "<p>5 rows × 27 columns</p>\n",
       "</div>"
      ],
      "text/plain": [
       "  Team        Date   Home Opponent  WINNER  FieldGoalsAttempted  \\\n",
       "0  ATL  2014-10-29  False      TOR   False                   80   \n",
       "1  ATL  2014-11-01   True      IND    True                   69   \n",
       "2  ATL  2014-11-05  False      SAS   False                   92   \n",
       "3  ATL  2014-11-07  False      CHO   False                   93   \n",
       "4  ATL  2014-11-08   True      NYK    True                   81   \n",
       "\n",
       "   X3PointShotsAttempted  FreeThrowsAttempted  FreeThrows.  OffRebounds  ...  \\\n",
       "0                     22                   17        0.529           10  ...   \n",
       "1                     20                   33        0.758            3  ...   \n",
       "2                     25                   11        0.727           10  ...   \n",
       "3                     33                   26        0.769            7  ...   \n",
       "4                     22                   36        0.778           12  ...   \n",
       "\n",
       "   Opp.3PointShotsAttempted  Opp.FreeThrowsAttempted  Opp.FreeThrows.  \\\n",
       "0                        26                       33            0.818   \n",
       "1                        32                       21            0.857   \n",
       "2                        17                       38            0.711   \n",
       "3                        21                       27            0.741   \n",
       "4                        21                       11            0.727   \n",
       "\n",
       "   Opp.OffRebounds  Opp.TotalRebounds  Opp.Assists  Opp.Steals  Opp.Blocks  \\\n",
       "0               16                 48           26          13           9   \n",
       "1               11                 44           25           5           5   \n",
       "2               11                 50           25           7           9   \n",
       "3               11                 51           31           6           7   \n",
       "4               13                 44           26           2           6   \n",
       "\n",
       "   Opp.Turnovers  Opp.TotalFouls  \n",
       "0              9              22  \n",
       "1             18              26  \n",
       "2             19              15  \n",
       "3             19              30  \n",
       "4             15              29  \n",
       "\n",
       "[5 rows x 27 columns]"
      ]
     },
     "execution_count": 11,
     "metadata": {},
     "output_type": "execute_result"
    }
   ],
   "source": [
    "df.head()"
   ]
  },
  {
   "cell_type": "code",
   "execution_count": 12,
   "metadata": {
    "colab": {
     "base_uri": "https://localhost:8080/"
    },
    "id": "pMKpjaTSKUjm",
    "outputId": "d20ebd87-ad26-44d0-f1d3-4b6f0ea82fe1"
   },
   "outputs": [
    {
     "data": {
      "text/plain": [
       "Team                        0\n",
       "Date                        0\n",
       "Home                        0\n",
       "Opponent                    0\n",
       "WINNER                      0\n",
       "FieldGoalsAttempted         0\n",
       "X3PointShotsAttempted       0\n",
       "FreeThrowsAttempted         0\n",
       "FreeThrows.                 0\n",
       "OffRebounds                 0\n",
       "TotalRebounds               0\n",
       "Assists                     0\n",
       "Steals                      0\n",
       "Blocks                      0\n",
       "Turnovers                   0\n",
       "TotalFouls                  0\n",
       "Opp.FieldGoalsAttempted     0\n",
       "Opp.3PointShotsAttempted    0\n",
       "Opp.FreeThrowsAttempted     0\n",
       "Opp.FreeThrows.             0\n",
       "Opp.OffRebounds             0\n",
       "Opp.TotalRebounds           0\n",
       "Opp.Assists                 0\n",
       "Opp.Steals                  0\n",
       "Opp.Blocks                  0\n",
       "Opp.Turnovers               0\n",
       "Opp.TotalFouls              0\n",
       "dtype: int64"
      ]
     },
     "execution_count": 12,
     "metadata": {},
     "output_type": "execute_result"
    }
   ],
   "source": [
    "df.isnull().sum()"
   ]
  },
  {
   "cell_type": "code",
   "execution_count": 13,
   "metadata": {
    "colab": {
     "base_uri": "https://localhost:8080/",
     "height": 317
    },
    "id": "T3CKnh3zPydj",
    "outputId": "a4009d85-9443-4126-bf5e-34139f6e001e"
   },
   "outputs": [
    {
     "data": {
      "text/html": [
       "<div>\n",
       "<style scoped>\n",
       "    .dataframe tbody tr th:only-of-type {\n",
       "        vertical-align: middle;\n",
       "    }\n",
       "\n",
       "    .dataframe tbody tr th {\n",
       "        vertical-align: top;\n",
       "    }\n",
       "\n",
       "    .dataframe thead th {\n",
       "        text-align: right;\n",
       "    }\n",
       "</style>\n",
       "<table border=\"1\" class=\"dataframe\">\n",
       "  <thead>\n",
       "    <tr style=\"text-align: right;\">\n",
       "      <th></th>\n",
       "      <th>FieldGoalsAttempted</th>\n",
       "      <th>X3PointShotsAttempted</th>\n",
       "      <th>FreeThrowsAttempted</th>\n",
       "      <th>FreeThrows.</th>\n",
       "      <th>OffRebounds</th>\n",
       "      <th>TotalRebounds</th>\n",
       "      <th>Assists</th>\n",
       "      <th>Steals</th>\n",
       "      <th>Blocks</th>\n",
       "      <th>Turnovers</th>\n",
       "      <th>...</th>\n",
       "      <th>Opp.3PointShotsAttempted</th>\n",
       "      <th>Opp.FreeThrowsAttempted</th>\n",
       "      <th>Opp.FreeThrows.</th>\n",
       "      <th>Opp.OffRebounds</th>\n",
       "      <th>Opp.TotalRebounds</th>\n",
       "      <th>Opp.Assists</th>\n",
       "      <th>Opp.Steals</th>\n",
       "      <th>Opp.Blocks</th>\n",
       "      <th>Opp.Turnovers</th>\n",
       "      <th>Opp.TotalFouls</th>\n",
       "    </tr>\n",
       "  </thead>\n",
       "  <tbody>\n",
       "    <tr>\n",
       "      <th>count</th>\n",
       "      <td>9840.000000</td>\n",
       "      <td>9840.000000</td>\n",
       "      <td>9840.000000</td>\n",
       "      <td>9840.000000</td>\n",
       "      <td>9840.000000</td>\n",
       "      <td>9840.000000</td>\n",
       "      <td>9840.000000</td>\n",
       "      <td>9840.000000</td>\n",
       "      <td>9840.000000</td>\n",
       "      <td>9840.000000</td>\n",
       "      <td>...</td>\n",
       "      <td>9840.000000</td>\n",
       "      <td>9840.000000</td>\n",
       "      <td>9840.000000</td>\n",
       "      <td>9840.000000</td>\n",
       "      <td>9840.000000</td>\n",
       "      <td>9840.000000</td>\n",
       "      <td>9840.000000</td>\n",
       "      <td>9840.000000</td>\n",
       "      <td>9840.000000</td>\n",
       "      <td>9840.000000</td>\n",
       "    </tr>\n",
       "    <tr>\n",
       "      <th>mean</th>\n",
       "      <td>84.902439</td>\n",
       "      <td>25.623679</td>\n",
       "      <td>22.749390</td>\n",
       "      <td>0.762395</td>\n",
       "      <td>10.287602</td>\n",
       "      <td>43.520630</td>\n",
       "      <td>22.546545</td>\n",
       "      <td>7.750508</td>\n",
       "      <td>4.827642</td>\n",
       "      <td>13.638618</td>\n",
       "      <td>...</td>\n",
       "      <td>25.623679</td>\n",
       "      <td>22.749390</td>\n",
       "      <td>0.762395</td>\n",
       "      <td>10.287602</td>\n",
       "      <td>43.520630</td>\n",
       "      <td>22.546545</td>\n",
       "      <td>7.750508</td>\n",
       "      <td>4.827642</td>\n",
       "      <td>13.638618</td>\n",
       "      <td>20.058537</td>\n",
       "    </tr>\n",
       "    <tr>\n",
       "      <th>std</th>\n",
       "      <td>7.130043</td>\n",
       "      <td>7.102501</td>\n",
       "      <td>7.390451</td>\n",
       "      <td>0.104297</td>\n",
       "      <td>3.807120</td>\n",
       "      <td>6.410428</td>\n",
       "      <td>5.122989</td>\n",
       "      <td>2.958886</td>\n",
       "      <td>2.536845</td>\n",
       "      <td>3.869543</td>\n",
       "      <td>...</td>\n",
       "      <td>7.102501</td>\n",
       "      <td>7.390451</td>\n",
       "      <td>0.104297</td>\n",
       "      <td>3.807120</td>\n",
       "      <td>6.410428</td>\n",
       "      <td>5.122989</td>\n",
       "      <td>2.958886</td>\n",
       "      <td>2.536845</td>\n",
       "      <td>3.869543</td>\n",
       "      <td>4.317611</td>\n",
       "    </tr>\n",
       "    <tr>\n",
       "      <th>min</th>\n",
       "      <td>60.000000</td>\n",
       "      <td>4.000000</td>\n",
       "      <td>1.000000</td>\n",
       "      <td>0.143000</td>\n",
       "      <td>0.000000</td>\n",
       "      <td>20.000000</td>\n",
       "      <td>6.000000</td>\n",
       "      <td>0.000000</td>\n",
       "      <td>0.000000</td>\n",
       "      <td>2.000000</td>\n",
       "      <td>...</td>\n",
       "      <td>4.000000</td>\n",
       "      <td>1.000000</td>\n",
       "      <td>0.143000</td>\n",
       "      <td>0.000000</td>\n",
       "      <td>20.000000</td>\n",
       "      <td>6.000000</td>\n",
       "      <td>0.000000</td>\n",
       "      <td>0.000000</td>\n",
       "      <td>2.000000</td>\n",
       "      <td>7.000000</td>\n",
       "    </tr>\n",
       "    <tr>\n",
       "      <th>25%</th>\n",
       "      <td>80.000000</td>\n",
       "      <td>21.000000</td>\n",
       "      <td>18.000000</td>\n",
       "      <td>0.696000</td>\n",
       "      <td>8.000000</td>\n",
       "      <td>39.000000</td>\n",
       "      <td>19.000000</td>\n",
       "      <td>6.000000</td>\n",
       "      <td>3.000000</td>\n",
       "      <td>11.000000</td>\n",
       "      <td>...</td>\n",
       "      <td>21.000000</td>\n",
       "      <td>18.000000</td>\n",
       "      <td>0.696000</td>\n",
       "      <td>8.000000</td>\n",
       "      <td>39.000000</td>\n",
       "      <td>19.000000</td>\n",
       "      <td>6.000000</td>\n",
       "      <td>3.000000</td>\n",
       "      <td>11.000000</td>\n",
       "      <td>17.000000</td>\n",
       "    </tr>\n",
       "    <tr>\n",
       "      <th>50%</th>\n",
       "      <td>85.000000</td>\n",
       "      <td>25.000000</td>\n",
       "      <td>22.000000</td>\n",
       "      <td>0.769000</td>\n",
       "      <td>10.000000</td>\n",
       "      <td>43.000000</td>\n",
       "      <td>22.000000</td>\n",
       "      <td>8.000000</td>\n",
       "      <td>5.000000</td>\n",
       "      <td>13.000000</td>\n",
       "      <td>...</td>\n",
       "      <td>25.000000</td>\n",
       "      <td>22.000000</td>\n",
       "      <td>0.769000</td>\n",
       "      <td>10.000000</td>\n",
       "      <td>43.000000</td>\n",
       "      <td>22.000000</td>\n",
       "      <td>8.000000</td>\n",
       "      <td>5.000000</td>\n",
       "      <td>13.000000</td>\n",
       "      <td>20.000000</td>\n",
       "    </tr>\n",
       "    <tr>\n",
       "      <th>75%</th>\n",
       "      <td>89.000000</td>\n",
       "      <td>30.000000</td>\n",
       "      <td>27.000000</td>\n",
       "      <td>0.833000</td>\n",
       "      <td>13.000000</td>\n",
       "      <td>48.000000</td>\n",
       "      <td>26.000000</td>\n",
       "      <td>10.000000</td>\n",
       "      <td>6.000000</td>\n",
       "      <td>16.000000</td>\n",
       "      <td>...</td>\n",
       "      <td>30.000000</td>\n",
       "      <td>27.000000</td>\n",
       "      <td>0.833000</td>\n",
       "      <td>13.000000</td>\n",
       "      <td>48.000000</td>\n",
       "      <td>26.000000</td>\n",
       "      <td>10.000000</td>\n",
       "      <td>6.000000</td>\n",
       "      <td>16.000000</td>\n",
       "      <td>23.000000</td>\n",
       "    </tr>\n",
       "    <tr>\n",
       "      <th>max</th>\n",
       "      <td>129.000000</td>\n",
       "      <td>61.000000</td>\n",
       "      <td>64.000000</td>\n",
       "      <td>1.000000</td>\n",
       "      <td>38.000000</td>\n",
       "      <td>81.000000</td>\n",
       "      <td>47.000000</td>\n",
       "      <td>21.000000</td>\n",
       "      <td>18.000000</td>\n",
       "      <td>29.000000</td>\n",
       "      <td>...</td>\n",
       "      <td>61.000000</td>\n",
       "      <td>64.000000</td>\n",
       "      <td>1.000000</td>\n",
       "      <td>38.000000</td>\n",
       "      <td>81.000000</td>\n",
       "      <td>47.000000</td>\n",
       "      <td>21.000000</td>\n",
       "      <td>18.000000</td>\n",
       "      <td>29.000000</td>\n",
       "      <td>42.000000</td>\n",
       "    </tr>\n",
       "  </tbody>\n",
       "</table>\n",
       "<p>8 rows × 22 columns</p>\n",
       "</div>"
      ],
      "text/plain": [
       "       FieldGoalsAttempted  X3PointShotsAttempted  FreeThrowsAttempted  \\\n",
       "count          9840.000000            9840.000000          9840.000000   \n",
       "mean             84.902439              25.623679            22.749390   \n",
       "std               7.130043               7.102501             7.390451   \n",
       "min              60.000000               4.000000             1.000000   \n",
       "25%              80.000000              21.000000            18.000000   \n",
       "50%              85.000000              25.000000            22.000000   \n",
       "75%              89.000000              30.000000            27.000000   \n",
       "max             129.000000              61.000000            64.000000   \n",
       "\n",
       "       FreeThrows.  OffRebounds  TotalRebounds      Assists       Steals  \\\n",
       "count  9840.000000  9840.000000    9840.000000  9840.000000  9840.000000   \n",
       "mean      0.762395    10.287602      43.520630    22.546545     7.750508   \n",
       "std       0.104297     3.807120       6.410428     5.122989     2.958886   \n",
       "min       0.143000     0.000000      20.000000     6.000000     0.000000   \n",
       "25%       0.696000     8.000000      39.000000    19.000000     6.000000   \n",
       "50%       0.769000    10.000000      43.000000    22.000000     8.000000   \n",
       "75%       0.833000    13.000000      48.000000    26.000000    10.000000   \n",
       "max       1.000000    38.000000      81.000000    47.000000    21.000000   \n",
       "\n",
       "            Blocks    Turnovers  ...  Opp.3PointShotsAttempted  \\\n",
       "count  9840.000000  9840.000000  ...               9840.000000   \n",
       "mean      4.827642    13.638618  ...                 25.623679   \n",
       "std       2.536845     3.869543  ...                  7.102501   \n",
       "min       0.000000     2.000000  ...                  4.000000   \n",
       "25%       3.000000    11.000000  ...                 21.000000   \n",
       "50%       5.000000    13.000000  ...                 25.000000   \n",
       "75%       6.000000    16.000000  ...                 30.000000   \n",
       "max      18.000000    29.000000  ...                 61.000000   \n",
       "\n",
       "       Opp.FreeThrowsAttempted  Opp.FreeThrows.  Opp.OffRebounds  \\\n",
       "count              9840.000000      9840.000000      9840.000000   \n",
       "mean                 22.749390         0.762395        10.287602   \n",
       "std                   7.390451         0.104297         3.807120   \n",
       "min                   1.000000         0.143000         0.000000   \n",
       "25%                  18.000000         0.696000         8.000000   \n",
       "50%                  22.000000         0.769000        10.000000   \n",
       "75%                  27.000000         0.833000        13.000000   \n",
       "max                  64.000000         1.000000        38.000000   \n",
       "\n",
       "       Opp.TotalRebounds  Opp.Assists   Opp.Steals   Opp.Blocks  \\\n",
       "count        9840.000000  9840.000000  9840.000000  9840.000000   \n",
       "mean           43.520630    22.546545     7.750508     4.827642   \n",
       "std             6.410428     5.122989     2.958886     2.536845   \n",
       "min            20.000000     6.000000     0.000000     0.000000   \n",
       "25%            39.000000    19.000000     6.000000     3.000000   \n",
       "50%            43.000000    22.000000     8.000000     5.000000   \n",
       "75%            48.000000    26.000000    10.000000     6.000000   \n",
       "max            81.000000    47.000000    21.000000    18.000000   \n",
       "\n",
       "       Opp.Turnovers  Opp.TotalFouls  \n",
       "count    9840.000000     9840.000000  \n",
       "mean       13.638618       20.058537  \n",
       "std         3.869543        4.317611  \n",
       "min         2.000000        7.000000  \n",
       "25%        11.000000       17.000000  \n",
       "50%        13.000000       20.000000  \n",
       "75%        16.000000       23.000000  \n",
       "max        29.000000       42.000000  \n",
       "\n",
       "[8 rows x 22 columns]"
      ]
     },
     "execution_count": 13,
     "metadata": {},
     "output_type": "execute_result"
    }
   ],
   "source": [
    "df.describe()"
   ]
  },
  {
   "cell_type": "code",
   "execution_count": 14,
   "metadata": {
    "colab": {
     "base_uri": "https://localhost:8080/"
    },
    "id": "Bxj8ZpQ_P248",
    "outputId": "923c8c70-59e0-4e22-8348-f69054996b6c"
   },
   "outputs": [
    {
     "name": "stdout",
     "output_type": "stream",
     "text": [
      "<class 'pandas.core.frame.DataFrame'>\n",
      "RangeIndex: 9840 entries, 0 to 9839\n",
      "Data columns (total 27 columns):\n",
      " #   Column                    Non-Null Count  Dtype  \n",
      "---  ------                    --------------  -----  \n",
      " 0   Team                      9840 non-null   object \n",
      " 1   Date                      9840 non-null   object \n",
      " 2   Home                      9840 non-null   bool   \n",
      " 3   Opponent                  9840 non-null   object \n",
      " 4   WINNER                    9840 non-null   bool   \n",
      " 5   FieldGoalsAttempted       9840 non-null   int64  \n",
      " 6   X3PointShotsAttempted     9840 non-null   int64  \n",
      " 7   FreeThrowsAttempted       9840 non-null   int64  \n",
      " 8   FreeThrows.               9840 non-null   float64\n",
      " 9   OffRebounds               9840 non-null   int64  \n",
      " 10  TotalRebounds             9840 non-null   int64  \n",
      " 11  Assists                   9840 non-null   int64  \n",
      " 12  Steals                    9840 non-null   int64  \n",
      " 13  Blocks                    9840 non-null   int64  \n",
      " 14  Turnovers                 9840 non-null   int64  \n",
      " 15  TotalFouls                9840 non-null   int64  \n",
      " 16  Opp.FieldGoalsAttempted   9840 non-null   int64  \n",
      " 17  Opp.3PointShotsAttempted  9840 non-null   int64  \n",
      " 18  Opp.FreeThrowsAttempted   9840 non-null   int64  \n",
      " 19  Opp.FreeThrows.           9840 non-null   float64\n",
      " 20  Opp.OffRebounds           9840 non-null   int64  \n",
      " 21  Opp.TotalRebounds         9840 non-null   int64  \n",
      " 22  Opp.Assists               9840 non-null   int64  \n",
      " 23  Opp.Steals                9840 non-null   int64  \n",
      " 24  Opp.Blocks                9840 non-null   int64  \n",
      " 25  Opp.Turnovers             9840 non-null   int64  \n",
      " 26  Opp.TotalFouls            9840 non-null   int64  \n",
      "dtypes: bool(2), float64(2), int64(20), object(3)\n",
      "memory usage: 1.9+ MB\n"
     ]
    }
   ],
   "source": [
    "df.info()"
   ]
  },
  {
   "cell_type": "code",
   "execution_count": 15,
   "metadata": {
    "colab": {
     "base_uri": "https://localhost:8080/"
    },
    "id": "tzswnqcJaGJY",
    "outputId": "9057860d-da5a-4ba7-8a4a-5c118b23b38e"
   },
   "outputs": [
    {
     "data": {
      "text/plain": [
       "array(['TOR', 'IND', 'SAS', 'CHO', 'NYK', 'UTA', 'MIA', 'CLE', 'LAL',\n",
       "       'DET', 'WAS', 'NOP', 'BOS', 'BRK', 'DEN', 'PHI', 'ORL', 'CHI',\n",
       "       'HOU', 'DAL', 'LAC', 'MIL', 'POR', 'MEM', 'OKC', 'MIN', 'GSW',\n",
       "       'SAC', 'PHO', 'ATL'], dtype=object)"
      ]
     },
     "execution_count": 15,
     "metadata": {},
     "output_type": "execute_result"
    }
   ],
   "source": [
    "df['Opponent'].unique()"
   ]
  },
  {
   "cell_type": "code",
   "execution_count": 16,
   "metadata": {
    "id": "TyedDjMlaYCQ"
   },
   "outputs": [],
   "source": [
    "east = ['TOR','IND','CHO','NYK','MIA','CLE','DET',\n",
    "        'WAS','BOS','BRK','PHI','ORL','CHI','MIL','ATL']\n",
    "\n",
    "df['EastOpponent'] = df['Opponent'].isin(east)\n",
    "                                         \n",
    "                                         "
   ]
  },
  {
   "cell_type": "code",
   "execution_count": 17,
   "metadata": {
    "id": "Pt_OyFYobQRo"
   },
   "outputs": [],
   "source": [
    "west = ['SAS','UTA','LAL','NOP','DEN','HOU','DAL',\n",
    "        'LAC','POR','MEM','OKC','MIN','GSW','SAC','PHO']\n",
    "\n",
    "df['WestOpponent'] = df['Opponent'].isin(west)"
   ]
  },
  {
   "cell_type": "code",
   "execution_count": 18,
   "metadata": {
    "id": "uy0lYhVOgt5_"
   },
   "outputs": [],
   "source": [
    "df['DefRebound'] = df['TotalRebounds'] - df['OffRebounds']"
   ]
  },
  {
   "cell_type": "code",
   "execution_count": 19,
   "metadata": {
    "id": "BfqAYdwMIRvW"
   },
   "outputs": [],
   "source": [
    "df['Opp.DefRebound'] = df['Opp.TotalRebounds'] - df['Opp.OffRebounds']"
   ]
  },
  {
   "cell_type": "code",
   "execution_count": 20,
   "metadata": {
    "id": "bak1zPcthqsL"
   },
   "outputs": [],
   "source": [
    "df['X2PointShotAttempted'] = df['FieldGoalsAttempted'] - df['X3PointShotsAttempted']"
   ]
  },
  {
   "cell_type": "code",
   "execution_count": 21,
   "metadata": {
    "id": "vXD4ez0iIeX9"
   },
   "outputs": [],
   "source": [
    "df['Opp.2PointShotAttempted'] = df['Opp.FieldGoalsAttempted'] - df['Opp.3PointShotsAttempted']"
   ]
  },
  {
   "cell_type": "code",
   "execution_count": 22,
   "metadata": {
    "id": "cpqGVNDQh6hg"
   },
   "outputs": [],
   "source": [
    "df['HighFreeThrow%'] = df['FreeThrows.'] > .800"
   ]
  },
  {
   "cell_type": "code",
   "execution_count": 23,
   "metadata": {
    "id": "V7nEnFgZI5Og"
   },
   "outputs": [],
   "source": [
    "df['Opp.HighFreeThrow%'] = df['Opp.FreeThrows.'] >.800"
   ]
  },
  {
   "cell_type": "code",
   "execution_count": 24,
   "metadata": {
    "colab": {
     "base_uri": "https://localhost:8080/"
    },
    "id": "sa0vL9-siGkz",
    "outputId": "14114fc6-4f2f-4566-ef72-dec667094152"
   },
   "outputs": [
    {
     "data": {
      "text/plain": [
       "False    6310\n",
       "True     3530\n",
       "Name: HighFreeThrow%, dtype: int64"
      ]
     },
     "execution_count": 24,
     "metadata": {},
     "output_type": "execute_result"
    }
   ],
   "source": [
    "df['HighFreeThrow%'].value_counts()"
   ]
  },
  {
   "cell_type": "code",
   "execution_count": 25,
   "metadata": {
    "colab": {
     "base_uri": "https://localhost:8080/",
     "height": 309
    },
    "id": "2zjoG6ALbL4m",
    "outputId": "76233351-934e-4261-a9ce-ca2d608e3ec5"
   },
   "outputs": [
    {
     "data": {
      "text/html": [
       "<div>\n",
       "<style scoped>\n",
       "    .dataframe tbody tr th:only-of-type {\n",
       "        vertical-align: middle;\n",
       "    }\n",
       "\n",
       "    .dataframe tbody tr th {\n",
       "        vertical-align: top;\n",
       "    }\n",
       "\n",
       "    .dataframe thead th {\n",
       "        text-align: right;\n",
       "    }\n",
       "</style>\n",
       "<table border=\"1\" class=\"dataframe\">\n",
       "  <thead>\n",
       "    <tr style=\"text-align: right;\">\n",
       "      <th></th>\n",
       "      <th>Team</th>\n",
       "      <th>Date</th>\n",
       "      <th>Home</th>\n",
       "      <th>Opponent</th>\n",
       "      <th>WINNER</th>\n",
       "      <th>FieldGoalsAttempted</th>\n",
       "      <th>X3PointShotsAttempted</th>\n",
       "      <th>FreeThrowsAttempted</th>\n",
       "      <th>FreeThrows.</th>\n",
       "      <th>OffRebounds</th>\n",
       "      <th>...</th>\n",
       "      <th>Opp.Turnovers</th>\n",
       "      <th>Opp.TotalFouls</th>\n",
       "      <th>EastOpponent</th>\n",
       "      <th>WestOpponent</th>\n",
       "      <th>DefRebound</th>\n",
       "      <th>Opp.DefRebound</th>\n",
       "      <th>X2PointShotAttempted</th>\n",
       "      <th>Opp.2PointShotAttempted</th>\n",
       "      <th>HighFreeThrow%</th>\n",
       "      <th>Opp.HighFreeThrow%</th>\n",
       "    </tr>\n",
       "  </thead>\n",
       "  <tbody>\n",
       "    <tr>\n",
       "      <th>0</th>\n",
       "      <td>ATL</td>\n",
       "      <td>2014-10-29</td>\n",
       "      <td>False</td>\n",
       "      <td>TOR</td>\n",
       "      <td>False</td>\n",
       "      <td>80</td>\n",
       "      <td>22</td>\n",
       "      <td>17</td>\n",
       "      <td>0.529</td>\n",
       "      <td>10</td>\n",
       "      <td>...</td>\n",
       "      <td>9</td>\n",
       "      <td>22</td>\n",
       "      <td>True</td>\n",
       "      <td>False</td>\n",
       "      <td>32</td>\n",
       "      <td>32</td>\n",
       "      <td>58</td>\n",
       "      <td>64</td>\n",
       "      <td>False</td>\n",
       "      <td>True</td>\n",
       "    </tr>\n",
       "    <tr>\n",
       "      <th>1</th>\n",
       "      <td>ATL</td>\n",
       "      <td>2014-11-01</td>\n",
       "      <td>True</td>\n",
       "      <td>IND</td>\n",
       "      <td>True</td>\n",
       "      <td>69</td>\n",
       "      <td>20</td>\n",
       "      <td>33</td>\n",
       "      <td>0.758</td>\n",
       "      <td>3</td>\n",
       "      <td>...</td>\n",
       "      <td>18</td>\n",
       "      <td>26</td>\n",
       "      <td>True</td>\n",
       "      <td>False</td>\n",
       "      <td>34</td>\n",
       "      <td>33</td>\n",
       "      <td>49</td>\n",
       "      <td>49</td>\n",
       "      <td>False</td>\n",
       "      <td>True</td>\n",
       "    </tr>\n",
       "    <tr>\n",
       "      <th>2</th>\n",
       "      <td>ATL</td>\n",
       "      <td>2014-11-05</td>\n",
       "      <td>False</td>\n",
       "      <td>SAS</td>\n",
       "      <td>False</td>\n",
       "      <td>92</td>\n",
       "      <td>25</td>\n",
       "      <td>11</td>\n",
       "      <td>0.727</td>\n",
       "      <td>10</td>\n",
       "      <td>...</td>\n",
       "      <td>19</td>\n",
       "      <td>15</td>\n",
       "      <td>False</td>\n",
       "      <td>True</td>\n",
       "      <td>27</td>\n",
       "      <td>39</td>\n",
       "      <td>67</td>\n",
       "      <td>52</td>\n",
       "      <td>False</td>\n",
       "      <td>False</td>\n",
       "    </tr>\n",
       "    <tr>\n",
       "      <th>3</th>\n",
       "      <td>ATL</td>\n",
       "      <td>2014-11-07</td>\n",
       "      <td>False</td>\n",
       "      <td>CHO</td>\n",
       "      <td>False</td>\n",
       "      <td>93</td>\n",
       "      <td>33</td>\n",
       "      <td>26</td>\n",
       "      <td>0.769</td>\n",
       "      <td>7</td>\n",
       "      <td>...</td>\n",
       "      <td>19</td>\n",
       "      <td>30</td>\n",
       "      <td>True</td>\n",
       "      <td>False</td>\n",
       "      <td>31</td>\n",
       "      <td>40</td>\n",
       "      <td>60</td>\n",
       "      <td>76</td>\n",
       "      <td>False</td>\n",
       "      <td>False</td>\n",
       "    </tr>\n",
       "    <tr>\n",
       "      <th>4</th>\n",
       "      <td>ATL</td>\n",
       "      <td>2014-11-08</td>\n",
       "      <td>True</td>\n",
       "      <td>NYK</td>\n",
       "      <td>True</td>\n",
       "      <td>81</td>\n",
       "      <td>22</td>\n",
       "      <td>36</td>\n",
       "      <td>0.778</td>\n",
       "      <td>12</td>\n",
       "      <td>...</td>\n",
       "      <td>15</td>\n",
       "      <td>29</td>\n",
       "      <td>True</td>\n",
       "      <td>False</td>\n",
       "      <td>29</td>\n",
       "      <td>31</td>\n",
       "      <td>59</td>\n",
       "      <td>63</td>\n",
       "      <td>False</td>\n",
       "      <td>False</td>\n",
       "    </tr>\n",
       "  </tbody>\n",
       "</table>\n",
       "<p>5 rows × 35 columns</p>\n",
       "</div>"
      ],
      "text/plain": [
       "  Team        Date   Home Opponent  WINNER  FieldGoalsAttempted  \\\n",
       "0  ATL  2014-10-29  False      TOR   False                   80   \n",
       "1  ATL  2014-11-01   True      IND    True                   69   \n",
       "2  ATL  2014-11-05  False      SAS   False                   92   \n",
       "3  ATL  2014-11-07  False      CHO   False                   93   \n",
       "4  ATL  2014-11-08   True      NYK    True                   81   \n",
       "\n",
       "   X3PointShotsAttempted  FreeThrowsAttempted  FreeThrows.  OffRebounds  ...  \\\n",
       "0                     22                   17        0.529           10  ...   \n",
       "1                     20                   33        0.758            3  ...   \n",
       "2                     25                   11        0.727           10  ...   \n",
       "3                     33                   26        0.769            7  ...   \n",
       "4                     22                   36        0.778           12  ...   \n",
       "\n",
       "   Opp.Turnovers  Opp.TotalFouls  EastOpponent  WestOpponent  DefRebound  \\\n",
       "0              9              22          True         False          32   \n",
       "1             18              26          True         False          34   \n",
       "2             19              15         False          True          27   \n",
       "3             19              30          True         False          31   \n",
       "4             15              29          True         False          29   \n",
       "\n",
       "   Opp.DefRebound  X2PointShotAttempted  Opp.2PointShotAttempted  \\\n",
       "0              32                    58                       64   \n",
       "1              33                    49                       49   \n",
       "2              39                    67                       52   \n",
       "3              40                    60                       76   \n",
       "4              31                    59                       63   \n",
       "\n",
       "   HighFreeThrow%  Opp.HighFreeThrow%  \n",
       "0           False                True  \n",
       "1           False                True  \n",
       "2           False               False  \n",
       "3           False               False  \n",
       "4           False               False  \n",
       "\n",
       "[5 rows x 35 columns]"
      ]
     },
     "execution_count": 25,
     "metadata": {},
     "output_type": "execute_result"
    }
   ],
   "source": [
    "df.head()"
   ]
  },
  {
   "cell_type": "code",
   "execution_count": 26,
   "metadata": {
    "colab": {
     "base_uri": "https://localhost:8080/"
    },
    "id": "bHRBE3alGkgo",
    "outputId": "0b35b305-adb3-4e11-a7de-70d6b2de832c"
   },
   "outputs": [
    {
     "data": {
      "text/plain": [
       "43    655\n",
       "42    635\n",
       "44    607\n",
       "45    574\n",
       "40    570\n",
       "41    559\n",
       "46    543\n",
       "47    535\n",
       "39    454\n",
       "49    435\n",
       "48    424\n",
       "38    417\n",
       "37    388\n",
       "50    336\n",
       "36    316\n",
       "51    305\n",
       "35    278\n",
       "52    244\n",
       "34    210\n",
       "53    201\n",
       "33    189\n",
       "54    151\n",
       "32    130\n",
       "55    121\n",
       "31     82\n",
       "57     77\n",
       "56     76\n",
       "58     52\n",
       "30     51\n",
       "59     37\n",
       "29     34\n",
       "60     27\n",
       "28     20\n",
       "61     19\n",
       "62     19\n",
       "27     17\n",
       "26     11\n",
       "63     10\n",
       "25      7\n",
       "64      5\n",
       "66      4\n",
       "67      3\n",
       "65      3\n",
       "22      2\n",
       "24      2\n",
       "68      1\n",
       "23      1\n",
       "20      1\n",
       "81      1\n",
       "72      1\n",
       "Name: TotalRebounds, dtype: int64"
      ]
     },
     "execution_count": 26,
     "metadata": {},
     "output_type": "execute_result"
    }
   ],
   "source": [
    "df['TotalRebounds'].value_counts()"
   ]
  },
  {
   "cell_type": "code",
   "execution_count": 27,
   "metadata": {
    "id": "NbkYhG4VHMJX"
   },
   "outputs": [],
   "source": [
    "df['HighRebounds'] = df['TotalRebounds'] >= 60"
   ]
  },
  {
   "cell_type": "code",
   "execution_count": 28,
   "metadata": {
    "id": "LS8vLU2vH5eD"
   },
   "outputs": [],
   "source": [
    "df['OppHighRebounds'] = df['Opp.TotalRebounds'] >=60"
   ]
  },
  {
   "cell_type": "code",
   "execution_count": 29,
   "metadata": {
    "id": "3ntHSHDSHjfg"
   },
   "outputs": [],
   "source": [
    "df['AssistsTurnoverRatio'] = df['Assists'] / df['Turnovers']"
   ]
  },
  {
   "cell_type": "code",
   "execution_count": 30,
   "metadata": {
    "id": "czq6Nd5AKYWA"
   },
   "outputs": [],
   "source": [
    "df['GameChangers'] = df['Steals'] + df['Blocks']"
   ]
  },
  {
   "cell_type": "code",
   "execution_count": 31,
   "metadata": {
    "id": "R77ks6WXJR1c"
   },
   "outputs": [],
   "source": [
    "df['Opp.AssistsTurnoverRatio'] = df['Opp.Assists'] / df['Opp.Turnovers']"
   ]
  },
  {
   "cell_type": "code",
   "execution_count": 32,
   "metadata": {
    "colab": {
     "base_uri": "https://localhost:8080/"
    },
    "id": "S75I2q4XJtNa",
    "outputId": "be22f6ff-3155-417c-a122-152253412c82"
   },
   "outputs": [
    {
     "data": {
      "text/plain": [
       "19    964\n",
       "20    952\n",
       "18    846\n",
       "21    836\n",
       "22    782\n",
       "17    745\n",
       "23    685\n",
       "16    645\n",
       "24    547\n",
       "15    476\n",
       "25    444\n",
       "14    363\n",
       "26    314\n",
       "13    225\n",
       "27    218\n",
       "12    161\n",
       "28    149\n",
       "29    129\n",
       "11     91\n",
       "30     71\n",
       "31     45\n",
       "10     40\n",
       "32     30\n",
       "33     18\n",
       "9      16\n",
       "34     15\n",
       "35     10\n",
       "8       9\n",
       "37      4\n",
       "36      4\n",
       "7       2\n",
       "38      1\n",
       "42      1\n",
       "41      1\n",
       "39      1\n",
       "Name: TotalFouls, dtype: int64"
      ]
     },
     "execution_count": 32,
     "metadata": {},
     "output_type": "execute_result"
    }
   ],
   "source": [
    "df['TotalFouls'].value_counts()"
   ]
  },
  {
   "cell_type": "code",
   "execution_count": 33,
   "metadata": {
    "id": "_BGxxeuOJ1Fa"
   },
   "outputs": [],
   "source": [
    "df['HighFoul%'] = df['TotalFouls'] >= 30"
   ]
  },
  {
   "cell_type": "code",
   "execution_count": 34,
   "metadata": {
    "id": "bT4gTSAQJ9Q0"
   },
   "outputs": [],
   "source": [
    "df['Opp.HighFoul%'] = df['Opp.TotalFouls'] >= 30"
   ]
  },
  {
   "cell_type": "code",
   "execution_count": 35,
   "metadata": {
    "id": "DB4oRUAeKfcm"
   },
   "outputs": [],
   "source": [
    "df['Opp.GameChangers'] = df['Opp.Steals'] + df['Opp.Blocks']"
   ]
  },
  {
   "cell_type": "code",
   "execution_count": 36,
   "metadata": {
    "colab": {
     "base_uri": "https://localhost:8080/",
     "height": 309
    },
    "id": "ZODm0MDoHavv",
    "outputId": "789d48e7-71cc-4dbd-b345-094efc601cb0"
   },
   "outputs": [
    {
     "data": {
      "text/html": [
       "<div>\n",
       "<style scoped>\n",
       "    .dataframe tbody tr th:only-of-type {\n",
       "        vertical-align: middle;\n",
       "    }\n",
       "\n",
       "    .dataframe tbody tr th {\n",
       "        vertical-align: top;\n",
       "    }\n",
       "\n",
       "    .dataframe thead th {\n",
       "        text-align: right;\n",
       "    }\n",
       "</style>\n",
       "<table border=\"1\" class=\"dataframe\">\n",
       "  <thead>\n",
       "    <tr style=\"text-align: right;\">\n",
       "      <th></th>\n",
       "      <th>Team</th>\n",
       "      <th>Date</th>\n",
       "      <th>Home</th>\n",
       "      <th>Opponent</th>\n",
       "      <th>WINNER</th>\n",
       "      <th>FieldGoalsAttempted</th>\n",
       "      <th>X3PointShotsAttempted</th>\n",
       "      <th>FreeThrowsAttempted</th>\n",
       "      <th>FreeThrows.</th>\n",
       "      <th>OffRebounds</th>\n",
       "      <th>...</th>\n",
       "      <th>HighFreeThrow%</th>\n",
       "      <th>Opp.HighFreeThrow%</th>\n",
       "      <th>HighRebounds</th>\n",
       "      <th>OppHighRebounds</th>\n",
       "      <th>AssistsTurnoverRatio</th>\n",
       "      <th>GameChangers</th>\n",
       "      <th>Opp.AssistsTurnoverRatio</th>\n",
       "      <th>HighFoul%</th>\n",
       "      <th>Opp.HighFoul%</th>\n",
       "      <th>Opp.GameChangers</th>\n",
       "    </tr>\n",
       "  </thead>\n",
       "  <tbody>\n",
       "    <tr>\n",
       "      <th>0</th>\n",
       "      <td>ATL</td>\n",
       "      <td>2014-10-29</td>\n",
       "      <td>False</td>\n",
       "      <td>TOR</td>\n",
       "      <td>False</td>\n",
       "      <td>80</td>\n",
       "      <td>22</td>\n",
       "      <td>17</td>\n",
       "      <td>0.529</td>\n",
       "      <td>10</td>\n",
       "      <td>...</td>\n",
       "      <td>False</td>\n",
       "      <td>True</td>\n",
       "      <td>False</td>\n",
       "      <td>False</td>\n",
       "      <td>1.529412</td>\n",
       "      <td>14</td>\n",
       "      <td>2.888889</td>\n",
       "      <td>False</td>\n",
       "      <td>False</td>\n",
       "      <td>22</td>\n",
       "    </tr>\n",
       "    <tr>\n",
       "      <th>1</th>\n",
       "      <td>ATL</td>\n",
       "      <td>2014-11-01</td>\n",
       "      <td>True</td>\n",
       "      <td>IND</td>\n",
       "      <td>True</td>\n",
       "      <td>69</td>\n",
       "      <td>20</td>\n",
       "      <td>33</td>\n",
       "      <td>0.758</td>\n",
       "      <td>3</td>\n",
       "      <td>...</td>\n",
       "      <td>False</td>\n",
       "      <td>True</td>\n",
       "      <td>False</td>\n",
       "      <td>False</td>\n",
       "      <td>2.166667</td>\n",
       "      <td>16</td>\n",
       "      <td>1.388889</td>\n",
       "      <td>False</td>\n",
       "      <td>False</td>\n",
       "      <td>10</td>\n",
       "    </tr>\n",
       "    <tr>\n",
       "      <th>2</th>\n",
       "      <td>ATL</td>\n",
       "      <td>2014-11-05</td>\n",
       "      <td>False</td>\n",
       "      <td>SAS</td>\n",
       "      <td>False</td>\n",
       "      <td>92</td>\n",
       "      <td>25</td>\n",
       "      <td>11</td>\n",
       "      <td>0.727</td>\n",
       "      <td>10</td>\n",
       "      <td>...</td>\n",
       "      <td>False</td>\n",
       "      <td>False</td>\n",
       "      <td>False</td>\n",
       "      <td>False</td>\n",
       "      <td>2.000000</td>\n",
       "      <td>19</td>\n",
       "      <td>1.315789</td>\n",
       "      <td>False</td>\n",
       "      <td>False</td>\n",
       "      <td>16</td>\n",
       "    </tr>\n",
       "    <tr>\n",
       "      <th>3</th>\n",
       "      <td>ATL</td>\n",
       "      <td>2014-11-07</td>\n",
       "      <td>False</td>\n",
       "      <td>CHO</td>\n",
       "      <td>False</td>\n",
       "      <td>93</td>\n",
       "      <td>33</td>\n",
       "      <td>26</td>\n",
       "      <td>0.769</td>\n",
       "      <td>7</td>\n",
       "      <td>...</td>\n",
       "      <td>False</td>\n",
       "      <td>False</td>\n",
       "      <td>False</td>\n",
       "      <td>False</td>\n",
       "      <td>1.473684</td>\n",
       "      <td>11</td>\n",
       "      <td>1.631579</td>\n",
       "      <td>True</td>\n",
       "      <td>True</td>\n",
       "      <td>13</td>\n",
       "    </tr>\n",
       "    <tr>\n",
       "      <th>4</th>\n",
       "      <td>ATL</td>\n",
       "      <td>2014-11-08</td>\n",
       "      <td>True</td>\n",
       "      <td>NYK</td>\n",
       "      <td>True</td>\n",
       "      <td>81</td>\n",
       "      <td>22</td>\n",
       "      <td>36</td>\n",
       "      <td>0.778</td>\n",
       "      <td>12</td>\n",
       "      <td>...</td>\n",
       "      <td>False</td>\n",
       "      <td>False</td>\n",
       "      <td>False</td>\n",
       "      <td>False</td>\n",
       "      <td>2.250000</td>\n",
       "      <td>15</td>\n",
       "      <td>1.733333</td>\n",
       "      <td>False</td>\n",
       "      <td>False</td>\n",
       "      <td>8</td>\n",
       "    </tr>\n",
       "  </tbody>\n",
       "</table>\n",
       "<p>5 rows × 43 columns</p>\n",
       "</div>"
      ],
      "text/plain": [
       "  Team        Date   Home Opponent  WINNER  FieldGoalsAttempted  \\\n",
       "0  ATL  2014-10-29  False      TOR   False                   80   \n",
       "1  ATL  2014-11-01   True      IND    True                   69   \n",
       "2  ATL  2014-11-05  False      SAS   False                   92   \n",
       "3  ATL  2014-11-07  False      CHO   False                   93   \n",
       "4  ATL  2014-11-08   True      NYK    True                   81   \n",
       "\n",
       "   X3PointShotsAttempted  FreeThrowsAttempted  FreeThrows.  OffRebounds  ...  \\\n",
       "0                     22                   17        0.529           10  ...   \n",
       "1                     20                   33        0.758            3  ...   \n",
       "2                     25                   11        0.727           10  ...   \n",
       "3                     33                   26        0.769            7  ...   \n",
       "4                     22                   36        0.778           12  ...   \n",
       "\n",
       "   HighFreeThrow%  Opp.HighFreeThrow%  HighRebounds  OppHighRebounds  \\\n",
       "0           False                True         False            False   \n",
       "1           False                True         False            False   \n",
       "2           False               False         False            False   \n",
       "3           False               False         False            False   \n",
       "4           False               False         False            False   \n",
       "\n",
       "   AssistsTurnoverRatio  GameChangers  Opp.AssistsTurnoverRatio  HighFoul%  \\\n",
       "0              1.529412            14                  2.888889      False   \n",
       "1              2.166667            16                  1.388889      False   \n",
       "2              2.000000            19                  1.315789      False   \n",
       "3              1.473684            11                  1.631579       True   \n",
       "4              2.250000            15                  1.733333      False   \n",
       "\n",
       "   Opp.HighFoul%  Opp.GameChangers  \n",
       "0          False                22  \n",
       "1          False                10  \n",
       "2          False                16  \n",
       "3           True                13  \n",
       "4          False                 8  \n",
       "\n",
       "[5 rows x 43 columns]"
      ]
     },
     "execution_count": 36,
     "metadata": {},
     "output_type": "execute_result"
    }
   ],
   "source": [
    "df.head()"
   ]
  },
  {
   "cell_type": "code",
   "execution_count": 37,
   "metadata": {
    "colab": {
     "base_uri": "https://localhost:8080/"
    },
    "id": "wBHFFMBIKmkq",
    "outputId": "fa69c3ea-1dc8-486a-d890-825a53fe939b"
   },
   "outputs": [
    {
     "data": {
      "text/plain": [
       "False    0.5\n",
       "True     0.5\n",
       "Name: WINNER, dtype: float64"
      ]
     },
     "execution_count": 37,
     "metadata": {},
     "output_type": "execute_result"
    }
   ],
   "source": [
    "df['WINNER'].value_counts(normalize='True')"
   ]
  },
  {
   "cell_type": "code",
   "execution_count": 38,
   "metadata": {
    "id": "vuAyquajNcQu"
   },
   "outputs": [],
   "source": [
    "target = df['WINNER']\n",
    "\n",
    "X = df.drop('WINNER', axis=1)"
   ]
  },
  {
   "cell_type": "code",
   "execution_count": 39,
   "metadata": {
    "id": "wLmOxCR5N_8w"
   },
   "outputs": [],
   "source": [
    "train = X[X['Date'] <= '2016-06-30']"
   ]
  },
  {
   "cell_type": "code",
   "execution_count": 40,
   "metadata": {
    "colab": {
     "base_uri": "https://localhost:8080/"
    },
    "id": "WQ92DVmYPgly",
    "outputId": "e08e3cc1-0ae7-4b7a-d9b1-a60c300f9d74"
   },
   "outputs": [
    {
     "data": {
      "text/plain": [
       "(4920, 42)"
      ]
     },
     "execution_count": 40,
     "metadata": {},
     "output_type": "execute_result"
    }
   ],
   "source": [
    "train.shape"
   ]
  },
  {
   "cell_type": "code",
   "execution_count": 41,
   "metadata": {
    "id": "EsJsYuOqOUVh"
   },
   "outputs": [],
   "source": [
    "val = X[X['Date'] > '2016-06-30']\n",
    "val = val[val['Date'] <= '2017-06-30']"
   ]
  },
  {
   "cell_type": "code",
   "execution_count": 42,
   "metadata": {
    "colab": {
     "base_uri": "https://localhost:8080/"
    },
    "id": "6uUB89ZMPiRG",
    "outputId": "e2aec318-8f5f-47a0-b5b8-f542614655cd"
   },
   "outputs": [
    {
     "data": {
      "text/plain": [
       "(2460, 42)"
      ]
     },
     "execution_count": 42,
     "metadata": {},
     "output_type": "execute_result"
    }
   ],
   "source": [
    "val.shape"
   ]
  },
  {
   "cell_type": "code",
   "execution_count": 43,
   "metadata": {
    "id": "68zocWvbPJZe"
   },
   "outputs": [],
   "source": [
    "test = X[X['Date'] > '2017-06-30']"
   ]
  },
  {
   "cell_type": "code",
   "execution_count": 44,
   "metadata": {
    "colab": {
     "base_uri": "https://localhost:8080/"
    },
    "id": "EGND6emXPYwW",
    "outputId": "fa31fbae-9412-4199-c1fa-8b002a752a2c"
   },
   "outputs": [
    {
     "data": {
      "text/plain": [
       "(2460, 42)"
      ]
     },
     "execution_count": 44,
     "metadata": {},
     "output_type": "execute_result"
    }
   ],
   "source": [
    "test.shape"
   ]
  },
  {
   "cell_type": "code",
   "execution_count": 45,
   "metadata": {
    "id": "zKtFBJ_ML2AB"
   },
   "outputs": [],
   "source": [
    "y = target\n",
    "X_train = train\n",
    "y_train = y[y.index.isin(X_train.index)]\n",
    "X_val = val\n",
    "y_val = y[y.index.isin(X_val.index)]\n",
    "X_test = test\n",
    "y_test = y[y.index.isin(X_test.index)]"
   ]
  },
  {
   "cell_type": "code",
   "execution_count": 46,
   "metadata": {
    "colab": {
     "base_uri": "https://localhost:8080/"
    },
    "id": "nmoEWLudMO7e",
    "outputId": "7ba95deb-b349-4a4e-f08d-ecfe16324a97"
   },
   "outputs": [
    {
     "name": "stdout",
     "output_type": "stream",
     "text": [
      "Collecting category_encoders==2\n",
      "  Downloading category_encoders-2.0.0-py2.py3-none-any.whl (87 kB)\n",
      "\u001b[K     |████████████████████████████████| 87 kB 2.3 MB/s eta 0:00:011\n",
      "\u001b[?25hCollecting scikit-learn>=0.20.0\n",
      "  Downloading scikit_learn-0.24.1-cp38-cp38-macosx_10_13_x86_64.whl (7.2 MB)\n",
      "\u001b[K     |████████████████████████████████| 7.2 MB 2.9 MB/s eta 0:00:01\n",
      "\u001b[?25hRequirement already satisfied: pandas>=0.21.1 in /Users/erbun/.local/share/virtualenvs/FlaskSportsModel-RyB-ge3P/lib/python3.8/site-packages (from category_encoders==2) (1.2.3)\n",
      "Collecting statsmodels>=0.6.1\n",
      "  Downloading statsmodels-0.12.2-cp38-cp38-macosx_10_15_x86_64.whl (9.5 MB)\n",
      "\u001b[K     |████████████████████████████████| 9.5 MB 7.1 MB/s eta 0:00:01\n",
      "\u001b[?25hCollecting scipy>=0.19.0\n",
      "  Downloading scipy-1.6.2-cp38-cp38-macosx_10_9_x86_64.whl (30.8 MB)\n",
      "\u001b[K     |████████████████████████████████| 30.8 MB 5.5 MB/s eta 0:00:01\n",
      "\u001b[?25hCollecting patsy>=0.4.1\n",
      "  Downloading patsy-0.5.1-py2.py3-none-any.whl (231 kB)\n",
      "\u001b[K     |████████████████████████████████| 231 kB 8.2 MB/s eta 0:00:01\n",
      "\u001b[?25hRequirement already satisfied: numpy>=1.11.3 in /Users/erbun/.local/share/virtualenvs/FlaskSportsModel-RyB-ge3P/lib/python3.8/site-packages (from category_encoders==2) (1.20.2)\n",
      "Requirement already satisfied: python-dateutil>=2.7.3 in /Users/erbun/.local/share/virtualenvs/FlaskSportsModel-RyB-ge3P/lib/python3.8/site-packages (from pandas>=0.21.1->category_encoders==2) (2.8.1)\n",
      "Requirement already satisfied: pytz>=2017.3 in /Users/erbun/.local/share/virtualenvs/FlaskSportsModel-RyB-ge3P/lib/python3.8/site-packages (from pandas>=0.21.1->category_encoders==2) (2021.1)\n",
      "Requirement already satisfied: six in /Users/erbun/.local/share/virtualenvs/FlaskSportsModel-RyB-ge3P/lib/python3.8/site-packages (from patsy>=0.4.1->category_encoders==2) (1.15.0)\n",
      "Collecting joblib>=0.11\n",
      "  Downloading joblib-1.0.1-py3-none-any.whl (303 kB)\n",
      "\u001b[K     |████████████████████████████████| 303 kB 3.4 MB/s eta 0:00:01\n",
      "\u001b[?25hCollecting threadpoolctl>=2.0.0\n",
      "  Downloading threadpoolctl-2.1.0-py3-none-any.whl (12 kB)\n",
      "Installing collected packages: threadpoolctl, scipy, patsy, joblib, statsmodels, scikit-learn, category-encoders\n",
      "Successfully installed category-encoders-2.0.0 joblib-1.0.1 patsy-0.5.1 scikit-learn-0.24.1 scipy-1.6.2 statsmodels-0.12.2 threadpoolctl-2.1.0\n"
     ]
    }
   ],
   "source": [
    "  !pip install category_encoders==2"
   ]
  },
  {
   "cell_type": "code",
   "execution_count": 47,
   "metadata": {
    "id": "b_h6wpRVL2gr"
   },
   "outputs": [],
   "source": [
    "import pandas as pd\n",
    "%matplotlib inline\n",
    "import category_encoders as ce\n",
    "import matplotlib.pyplot as plt\n",
    "import numpy as np\n",
    "import seaborn as sns\n",
    "from sklearn.impute import SimpleImputer\n",
    "from sklearn.metrics import accuracy_score\n",
    "from sklearn.model_selection import train_test_split\n",
    "from sklearn.pipeline import make_pipeline\n",
    "from sklearn.preprocessing import FunctionTransformer\n",
    "from sklearn.ensemble import RandomForestClassifier\n",
    "from sklearn.model_selection import RandomizedSearchCV\n",
    "from sklearn.preprocessing import StandardScaler"
   ]
  },
  {
   "cell_type": "code",
   "execution_count": 48,
   "metadata": {
    "colab": {
     "base_uri": "https://localhost:8080/"
    },
    "id": "6jjpq0Yyhshp",
    "outputId": "9e15dbdc-d46f-452d-9f91-1f5e89b43027"
   },
   "outputs": [
    {
     "name": "stdout",
     "output_type": "stream",
     "text": [
      "Train accuracy: 0.9558943089430895\n"
     ]
    },
    {
     "name": "stderr",
     "output_type": "stream",
     "text": [
      "/Users/erbun/.local/share/virtualenvs/FlaskSportsModel-RyB-ge3P/lib/python3.8/site-packages/sklearn/linear_model/_logistic.py:763: ConvergenceWarning: lbfgs failed to converge (status=1):\n",
      "STOP: TOTAL NO. of ITERATIONS REACHED LIMIT.\n",
      "\n",
      "Increase the number of iterations (max_iter) or scale the data as shown in:\n",
      "    https://scikit-learn.org/stable/modules/preprocessing.html\n",
      "Please also refer to the documentation for alternative solver options:\n",
      "    https://scikit-learn.org/stable/modules/linear_model.html#logistic-regression\n",
      "  n_iter_i = _check_optimize_result(\n"
     ]
    }
   ],
   "source": [
    "from sklearn.linear_model import LinearRegression, LogisticRegression\n",
    "from sklearn.impute import SimpleImputer\n",
    "from sklearn.pipeline import Pipeline\n",
    "from sklearn.preprocessing import OneHotEncoder\n",
    "\n",
    "log_model = Pipeline([\n",
    "                ('ohe', OneHotEncoder()),\n",
    "                ('imputer', SimpleImputer()),\n",
    "                ('classifier', LogisticRegression())        \n",
    "])\n",
    "\n",
    "log_model.fit(X_train, y_train);\n",
    "\n",
    "print('Train accuracy:', log_model.score(X_train, y_train))\n"
   ]
  },
  {
   "cell_type": "code",
   "execution_count": 49,
   "metadata": {
    "colab": {
     "base_uri": "https://localhost:8080/"
    },
    "id": "UIIqHvlwHjcq",
    "outputId": "270b998a-d8ee-4724-a5e9-da29387ebbc7"
   },
   "outputs": [
    {
     "name": "stderr",
     "output_type": "stream",
     "text": [
      "/Users/erbun/.local/share/virtualenvs/FlaskSportsModel-RyB-ge3P/lib/python3.8/site-packages/category_encoders/utils.py:21: FutureWarning: is_categorical is deprecated and will be removed in a future version.  Use is_categorical_dtype instead\n",
      "  elif pd.api.types.is_categorical(cols):\n"
     ]
    },
    {
     "name": "stdout",
     "output_type": "stream",
     "text": [
      "training accuracy: 0.999390243902439\n",
      "validation accuracy: 0.806910569105691\n"
     ]
    }
   ],
   "source": [
    "pipeline = make_pipeline(\n",
    "  ce.OneHotEncoder(),\n",
    "  SimpleImputer(),\n",
    "  StandardScaler(),\n",
    "  RandomForestClassifier(\n",
    "      n_estimators= 20,\n",
    "      n_jobs=-1)\n",
    ")\n",
    "\n",
    "pipeline.fit(X_train, y_train)\n",
    "print('training accuracy:', pipeline.score(X_train, y_train))\n",
    "print('validation accuracy:', pipeline.score(X_val, y_val))\n"
   ]
  },
  {
   "cell_type": "code",
   "execution_count": 50,
   "metadata": {
    "colab": {
     "base_uri": "https://localhost:8080/"
    },
    "id": "3UK13Be9MJjz",
    "outputId": "fd45ea25-d783-4cbc-92b8-7422bfe2fba1"
   },
   "outputs": [
    {
     "name": "stdout",
     "output_type": "stream",
     "text": [
      "Fitting 10 folds for each of 10 candidates, totalling 100 fits\n"
     ]
    },
    {
     "name": "stderr",
     "output_type": "stream",
     "text": [
      "/Users/erbun/.local/share/virtualenvs/FlaskSportsModel-RyB-ge3P/lib/python3.8/site-packages/category_encoders/utils.py:21: FutureWarning: is_categorical is deprecated and will be removed in a future version.  Use is_categorical_dtype instead\n",
      "  elif pd.api.types.is_categorical(cols):\n"
     ]
    },
    {
     "name": "stdout",
     "output_type": "stream",
     "text": [
      "Cross-validation Best Score 0.8081300813008131\n",
      "Best Estimator {'randomforestclassifier__min_samples_split': 22, 'randomforestclassifier__max_features': 10, 'randomforestclassifier__max_depth': 29, 'randomforestclassifier__criterion': 'gini'}\n",
      "Best Model Pipeline(steps=[('onehotencoder',\n",
      "                 OneHotEncoder(cols=['Team', 'Date', 'Opponent'],\n",
      "                               drop_invariant=True)),\n",
      "                ('simpleimputer', SimpleImputer(strategy='median')),\n",
      "                ('standardscaler', StandardScaler(with_mean=False)),\n",
      "                ('randomforestclassifier',\n",
      "                 RandomForestClassifier(max_depth=29, max_features=10,\n",
      "                                        min_samples_split=22, n_estimators=20,\n",
      "                                        n_jobs=-1))])\n"
     ]
    }
   ],
   "source": [
    "pipeline = make_pipeline(\n",
    "  ce.OneHotEncoder(drop_invariant=True),\n",
    "  SimpleImputer(strategy='median'),\n",
    "  StandardScaler(with_mean=False),\n",
    "  RandomForestClassifier(\n",
    "      criterion = 'entropy',\n",
    "      #max_depth=28,\n",
    "      #min_samples_split=14,\n",
    "      #max_features=11,\n",
    "      n_estimators= 20,\n",
    "      n_jobs=-1)\n",
    ")\n",
    "\n",
    "param_distributions = {\n",
    "    'randomforestclassifier__criterion': ('gini','entropy'),\n",
    "    'randomforestclassifier__max_depth' : (28,29),\n",
    "    'randomforestclassifier__max_features': (10,11),\n",
    "    'randomforestclassifier__min_samples_split': (15,16,17, 22, 26 ,31, 75)\n",
    "}\n",
    "\n",
    "\n",
    "search = RandomizedSearchCV(\n",
    "    pipeline,\n",
    "    param_distributions=param_distributions,\n",
    "    n_iter=10,\n",
    "    cv=10,\n",
    "    scoring='accuracy',\n",
    "    verbose = 10,\n",
    "    return_train_score=True,\n",
    "    n_jobs=-1\n",
    ")\n",
    "\n",
    "search.fit(X_train, y_train)\n",
    "print('Cross-validation Best Score', search.best_score_)\n",
    "print('Best Estimator', search.best_params_)\n",
    "print('Best Model', search.best_estimator_)"
   ]
  },
  {
   "cell_type": "code",
   "execution_count": 51,
   "metadata": {
    "colab": {
     "base_uri": "https://localhost:8080/"
    },
    "id": "8-sD-Cf5Mm7h",
    "outputId": "7ccfff95-fbad-49c2-deb0-2ef2e976eb57"
   },
   "outputs": [
    {
     "name": "stdout",
     "output_type": "stream",
     "text": [
      "training accuracy: 0.966869918699187\n",
      "validation accuracy: 0.808130081300813\n",
      "testing accuracy: 0.7841463414634147\n"
     ]
    }
   ],
   "source": [
    "print('training accuracy:', search.score(X_train, y_train))\n",
    "print('validation accuracy:', search.score(X_val, y_val))\n",
    "print('testing accuracy:', search.score(X_test, y_test))"
   ]
  },
  {
   "cell_type": "code",
   "execution_count": 52,
   "metadata": {
    "colab": {
     "base_uri": "https://localhost:8080/"
    },
    "id": "bDMQUvfkM6H-",
    "outputId": "374c5991-16de-49cf-a94d-3a7aebe07b4b"
   },
   "outputs": [
    {
     "ename": "ModuleNotFoundError",
     "evalue": "No module named 'xgboost'",
     "output_type": "error",
     "traceback": [
      "\u001b[0;31m---------------------------------------------------------------------------\u001b[0m",
      "\u001b[0;31mModuleNotFoundError\u001b[0m                       Traceback (most recent call last)",
      "\u001b[0;32m<ipython-input-52-e9af6f4fdbfb>\u001b[0m in \u001b[0;36m<module>\u001b[0;34m\u001b[0m\n\u001b[1;32m      4\u001b[0m \u001b[0;34m\u001b[0m\u001b[0m\n\u001b[1;32m      5\u001b[0m \u001b[0;34m\u001b[0m\u001b[0m\n\u001b[0;32m----> 6\u001b[0;31m \u001b[0;32mfrom\u001b[0m \u001b[0mxgboost\u001b[0m \u001b[0;32mimport\u001b[0m \u001b[0mXGBClassifier\u001b[0m\u001b[0;34m\u001b[0m\u001b[0;34m\u001b[0m\u001b[0m\n\u001b[0m\u001b[1;32m      7\u001b[0m \u001b[0;34m\u001b[0m\u001b[0m\n\u001b[1;32m      8\u001b[0m gb = make_pipeline(\n",
      "\u001b[0;31mModuleNotFoundError\u001b[0m: No module named 'xgboost'"
     ]
    }
   ],
   "source": [
    "#critque the verbosiy section and add .001 as LR in hyper-params later on\n",
    "#currently Model is not experiencing overfitting, but the low test accruracy is \n",
    "#most like result of .01 being learning rate\n",
    "\n",
    "\n",
    "from xgboost import XGBClassifier\n",
    "\n",
    "gb = make_pipeline(\n",
    "    ce.OrdinalEncoder(),\n",
    "    XGBClassifier(n_estimators=100,\n",
    "                  random_state=42,\n",
    "                  objective=\"binary:logistic\", \n",
    "                  n_jobs=-1,\n",
    "                  verbosity=2)\n",
    ")\n",
    "\n",
    "gb.fit(X_train, y_train)\n",
    "\n",
    "print('training accuracy:', gb.score(X_train, y_train))\n",
    "print('validation accuracy:', gb.score(X_val, y_val))\n",
    "print('testing accuracy:', gb.score(X_test, y_test))"
   ]
  },
  {
   "cell_type": "code",
   "execution_count": 53,
   "metadata": {
    "colab": {
     "base_uri": "https://localhost:8080/",
     "height": 607
    },
    "id": "yeNgYa-jigRL",
    "outputId": "b186d2c2-4b59-43ff-fd60-5ff0b0da95f8"
   },
   "outputs": [
    {
     "data": {
      "image/png": "[encoded data removed]",
      "text/plain": [
       "<Figure size 720x720 with 1 Axes>"
      ]
     },
     "metadata": {
      "needs_background": "light",
      "tags": []
     },
     "output_type": "display_data"
    }
   ],
   "source": [
    "rf = gb.named_steps['xgbclassifier']\n",
    "importances = pd.Series(rf.feature_importances_, X_train.columns)\n",
    "\n",
    "%matplotlib inline\n",
    "import matplotlib.pyplot as plt\n",
    "\n",
    "n = 20\n",
    "plt.figure(figsize=(10,n/2))\n",
    "plt.title(f'Top {n} features')\n",
    "importances.sort_values()[-n:].plot.barh(color='grey');"
   ]
  },
  {
   "cell_type": "code",
   "execution_count": 54,
   "metadata": {
    "colab": {
     "base_uri": "https://localhost:8080/"
    },
    "id": "HTJIU_UF-dYi",
    "outputId": "732904a5-dce4-4771-a044-d29cab363000"
   },
   "outputs": [
    {
     "name": "stdout",
     "output_type": "stream",
     "text": [
      "Training Accuracy: 0.9115853658536586\n",
      "Validation Accuracy: 0.8573170731707317\n",
      "Testing Accuracy: 0.8463414634146341\n"
     ]
    }
   ],
   "source": [
    "print('Training Accuracy:', gb.score(X_train, y_train))\n",
    "print('Validation Accuracy:', gb.score(X_val, y_val))\n",
    "print('Testing Accuracy:', gb.score(X_test, y_test))"
   ]
  },
  {
   "cell_type": "code",
   "execution_count": 55,
   "metadata": {
    "id": "b7fxhGYy_TfC"
   },
   "outputs": [],
   "source": [
    "from sklearn.ensemble import GradientBoostingClassifier\n",
    "\n",
    "pipeline = make_pipeline(\n",
    "    ce.OrdinalEncoder(), \n",
    "    SimpleImputer(strategy='median'), \n",
    "    GradientBoostingClassifier(random_state=42)\n",
    ")\n",
    "\n",
    "\n",
    "pipeline.fit(X_train, y_train);"
   ]
  },
  {
   "cell_type": "code",
   "execution_count": 70,
   "metadata": {
    "id": "elvKN3qoHTwn"
   },
   "outputs": [],
   "source": [
    "#need to pickle model for vcsode\n",
    "import joblib"
   ]
  },
  {
   "cell_type": "code",
   "execution_count": 72,
   "metadata": {
    "id": "01453_-cHVwm"
   },
   "outputs": [],
   "source": [
    "filename_boost = 'finalized_nba_model.sav'"
   ]
  },
  {
   "cell_type": "code",
   "execution_count": 73,
   "metadata": {
    "colab": {
     "base_uri": "https://localhost:8080/"
    },
    "id": "rIkL_icAHfgj",
    "outputId": "fb93bcf6-e81d-4432-ffe3-03157b1bb16b"
   },
   "outputs": [
    {
     "data": {
      "text/plain": [
       "['finalized_nba_model.sav']"
      ]
     },
     "execution_count": 73,
     "metadata": {
      "tags": []
     },
     "output_type": "execute_result"
    }
   ],
   "source": [
    "#saves for us to add model to vscode\n",
    "joblib.dump(pipeline, filename=filename_boost)"
   ]
  },
  {
   "cell_type": "code",
   "execution_count": 56,
   "metadata": {
    "colab": {
     "base_uri": "https://localhost:8080/"
    },
    "id": "zVdXJK0g_ZtT",
    "outputId": "a4905130-6dab-481d-927d-1e989f9841a3"
   },
   "outputs": [
    {
     "name": "stdout",
     "output_type": "stream",
     "text": [
      "Training Accuracy: 0.9138211382113821\n",
      "Validation Accuracy: 0.8613821138211382\n",
      "Testing Accuracy: 0.85\n"
     ]
    }
   ],
   "source": [
    "print('Training Accuracy:', pipeline.score(X_train, y_train))\n",
    "print('Validation Accuracy:', pipeline.score(X_val, y_val))\n",
    "print('Testing Accuracy:', pipeline.score(X_test, y_test))"
   ]
  },
  {
   "cell_type": "code",
   "execution_count": 57,
   "metadata": {
    "colab": {
     "base_uri": "https://localhost:8080/",
     "height": 607
    },
    "id": "Eugj9gvJAtEL",
    "outputId": "a147666a-8f55-4879-811c-741ed8c74e9d"
   },
   "outputs": [
    {
     "data": {
      "image/png": "[encoded data removed]",
      "text/plain": [
       "<Figure size 720x720 with 1 Axes>"
      ]
     },
     "metadata": {
      "needs_background": "light",
      "tags": []
     },
     "output_type": "display_data"
    }
   ],
   "source": [
    "rf = pipeline.named_steps['gradientboostingclassifier']\n",
    "importances = pd.Series(rf.feature_importances_, X_train.columns)\n",
    "\n",
    "%matplotlib inline\n",
    "import matplotlib.pyplot as plt\n",
    "\n",
    "n = 20\n",
    "plt.figure(figsize=(10,n/2))\n",
    "plt.title(f'Top {n} features')\n",
    "importances.sort_values()[-n:].plot.barh(color='red');"
   ]
  },
  {
   "cell_type": "code",
   "execution_count": 58,
   "metadata": {
    "id": "dZDMWrRm-y_3"
   },
   "outputs": [],
   "source": [
    "from sklearn.inspection import permutation_importance\n",
    "\n",
    "pi = permutation_importance(pipeline,\n",
    "                            X_val,\n",
    "                            y_val,\n",
    "                            random_state=42,\n",
    "                            n_jobs=-1)"
   ]
  },
  {
   "cell_type": "code",
   "execution_count": 59,
   "metadata": {
    "colab": {
     "base_uri": "https://localhost:8080/"
    },
    "id": "ZRM5j-64AxMv",
    "outputId": "2ecfd072-96ec-4521-ce3f-0d24e7884024"
   },
   "outputs": [
    {
     "data": {
      "text/plain": [
       "dict_keys(['importances_mean', 'importances_std', 'importances'])"
      ]
     },
     "execution_count": 59,
     "metadata": {
      "tags": []
     },
     "output_type": "execute_result"
    }
   ],
   "source": [
    "pi.keys()"
   ]
  },
  {
   "cell_type": "code",
   "execution_count": 60,
   "metadata": {
    "colab": {
     "base_uri": "https://localhost:8080/",
     "height": 669
    },
    "id": "YCchIybuCpfP",
    "outputId": "038e1714-29b7-4769-f51d-93761931d647"
   },
   "outputs": [
    {
     "data": {
      "text/html": [
       "<div>\n",
       "<style scoped>\n",
       "    .dataframe tbody tr th:only-of-type {\n",
       "        vertical-align: middle;\n",
       "    }\n",
       "\n",
       "    .dataframe tbody tr th {\n",
       "        vertical-align: top;\n",
       "    }\n",
       "\n",
       "    .dataframe thead th {\n",
       "        text-align: right;\n",
       "    }\n",
       "</style>\n",
       "<table border=\"1\" class=\"dataframe\">\n",
       "  <thead>\n",
       "    <tr style=\"text-align: right;\">\n",
       "      <th></th>\n",
       "      <th>feature</th>\n",
       "      <th>weight</th>\n",
       "      <th>std</th>\n",
       "    </tr>\n",
       "  </thead>\n",
       "  <tbody>\n",
       "    <tr>\n",
       "      <th>15</th>\n",
       "      <td>Opp.FieldGoalsAttempted</td>\n",
       "      <td>-0.000407</td>\n",
       "      <td>0.000257</td>\n",
       "    </tr>\n",
       "    <tr>\n",
       "      <th>4</th>\n",
       "      <td>FieldGoalsAttempted</td>\n",
       "      <td>-0.000407</td>\n",
       "      <td>0.000575</td>\n",
       "    </tr>\n",
       "    <tr>\n",
       "      <th>12</th>\n",
       "      <td>Blocks</td>\n",
       "      <td>-0.000407</td>\n",
       "      <td>0.000445</td>\n",
       "    </tr>\n",
       "    <tr>\n",
       "      <th>26</th>\n",
       "      <td>EastOpponent</td>\n",
       "      <td>0.000000</td>\n",
       "      <td>0.000000</td>\n",
       "    </tr>\n",
       "    <tr>\n",
       "      <th>1</th>\n",
       "      <td>Date</td>\n",
       "      <td>0.000000</td>\n",
       "      <td>0.000000</td>\n",
       "    </tr>\n",
       "    <tr>\n",
       "      <th>19</th>\n",
       "      <td>Opp.OffRebounds</td>\n",
       "      <td>0.000000</td>\n",
       "      <td>0.000000</td>\n",
       "    </tr>\n",
       "    <tr>\n",
       "      <th>39</th>\n",
       "      <td>HighFoul%</td>\n",
       "      <td>0.000000</td>\n",
       "      <td>0.000000</td>\n",
       "    </tr>\n",
       "    <tr>\n",
       "      <th>35</th>\n",
       "      <td>OppHighRebounds</td>\n",
       "      <td>0.000000</td>\n",
       "      <td>0.000000</td>\n",
       "    </tr>\n",
       "    <tr>\n",
       "      <th>40</th>\n",
       "      <td>Opp.HighFoul%</td>\n",
       "      <td>0.000000</td>\n",
       "      <td>0.000000</td>\n",
       "    </tr>\n",
       "    <tr>\n",
       "      <th>8</th>\n",
       "      <td>OffRebounds</td>\n",
       "      <td>0.000000</td>\n",
       "      <td>0.000000</td>\n",
       "    </tr>\n",
       "    <tr>\n",
       "      <th>27</th>\n",
       "      <td>WestOpponent</td>\n",
       "      <td>0.000000</td>\n",
       "      <td>0.000000</td>\n",
       "    </tr>\n",
       "    <tr>\n",
       "      <th>34</th>\n",
       "      <td>HighRebounds</td>\n",
       "      <td>0.000000</td>\n",
       "      <td>0.000000</td>\n",
       "    </tr>\n",
       "    <tr>\n",
       "      <th>33</th>\n",
       "      <td>Opp.HighFreeThrow%</td>\n",
       "      <td>0.000000</td>\n",
       "      <td>0.000000</td>\n",
       "    </tr>\n",
       "    <tr>\n",
       "      <th>32</th>\n",
       "      <td>HighFreeThrow%</td>\n",
       "      <td>0.000081</td>\n",
       "      <td>0.000304</td>\n",
       "    </tr>\n",
       "    <tr>\n",
       "      <th>9</th>\n",
       "      <td>TotalRebounds</td>\n",
       "      <td>0.000163</td>\n",
       "      <td>0.000982</td>\n",
       "    </tr>\n",
       "    <tr>\n",
       "      <th>23</th>\n",
       "      <td>Opp.Blocks</td>\n",
       "      <td>0.000407</td>\n",
       "      <td>0.000445</td>\n",
       "    </tr>\n",
       "    <tr>\n",
       "      <th>2</th>\n",
       "      <td>Home</td>\n",
       "      <td>0.000488</td>\n",
       "      <td>0.000398</td>\n",
       "    </tr>\n",
       "    <tr>\n",
       "      <th>11</th>\n",
       "      <td>Steals</td>\n",
       "      <td>0.000813</td>\n",
       "      <td>0.000727</td>\n",
       "    </tr>\n",
       "    <tr>\n",
       "      <th>5</th>\n",
       "      <td>X3PointShotsAttempted</td>\n",
       "      <td>0.001057</td>\n",
       "      <td>0.000551</td>\n",
       "    </tr>\n",
       "    <tr>\n",
       "      <th>22</th>\n",
       "      <td>Opp.Steals</td>\n",
       "      <td>0.001220</td>\n",
       "      <td>0.000364</td>\n",
       "    </tr>\n",
       "  </tbody>\n",
       "</table>\n",
       "</div>"
      ],
      "text/plain": [
       "                    feature    weight       std\n",
       "15  Opp.FieldGoalsAttempted -0.000407  0.000257\n",
       "4       FieldGoalsAttempted -0.000407  0.000575\n",
       "12                   Blocks -0.000407  0.000445\n",
       "26             EastOpponent  0.000000  0.000000\n",
       "1                      Date  0.000000  0.000000\n",
       "19          Opp.OffRebounds  0.000000  0.000000\n",
       "39                HighFoul%  0.000000  0.000000\n",
       "35          OppHighRebounds  0.000000  0.000000\n",
       "40            Opp.HighFoul%  0.000000  0.000000\n",
       "8               OffRebounds  0.000000  0.000000\n",
       "27             WestOpponent  0.000000  0.000000\n",
       "34             HighRebounds  0.000000  0.000000\n",
       "33       Opp.HighFreeThrow%  0.000000  0.000000\n",
       "32           HighFreeThrow%  0.000081  0.000304\n",
       "9             TotalRebounds  0.000163  0.000982\n",
       "23               Opp.Blocks  0.000407  0.000445\n",
       "2                      Home  0.000488  0.000398\n",
       "11                   Steals  0.000813  0.000727\n",
       "5     X3PointShotsAttempted  0.001057  0.000551\n",
       "22               Opp.Steals  0.001220  0.000364"
      ]
     },
     "execution_count": 60,
     "metadata": {
      "tags": []
     },
     "output_type": "execute_result"
    }
   ],
   "source": [
    "p_importance = pd.DataFrame({'feature' : X_val.columns,\n",
    "                             'weight'  : pi.importances_mean,\n",
    "                             'std'     : pi.importances_std})\n",
    "\n",
    "p_importance.sort_values('weight', ascending=True).head(20)"
   ]
  },
  {
   "cell_type": "markdown",
   "metadata": {
    "id": "0l32owt4ZDmG"
   },
   "source": [
    "Talk about the features in regards to basketball, explain what you are doing to a non techincal audience with both the model and what you are building"
   ]
  },
  {
   "cell_type": "code",
   "execution_count": 61,
   "metadata": {
    "colab": {
     "base_uri": "https://localhost:8080/",
     "height": 793
    },
    "id": "prgsQtrTQmYk",
    "outputId": "fd6b9ab4-7a7c-41d7-9695-a824504dbdf2"
   },
   "outputs": [
    {
     "data": {
      "text/html": [
       "<div>\n",
       "<style scoped>\n",
       "    .dataframe tbody tr th:only-of-type {\n",
       "        vertical-align: middle;\n",
       "    }\n",
       "\n",
       "    .dataframe tbody tr th {\n",
       "        vertical-align: top;\n",
       "    }\n",
       "\n",
       "    .dataframe thead th {\n",
       "        text-align: right;\n",
       "    }\n",
       "</style>\n",
       "<table border=\"1\" class=\"dataframe\">\n",
       "  <thead>\n",
       "    <tr style=\"text-align: right;\">\n",
       "      <th></th>\n",
       "      <th>feature</th>\n",
       "      <th>weight</th>\n",
       "      <th>std</th>\n",
       "    </tr>\n",
       "  </thead>\n",
       "  <tbody>\n",
       "    <tr>\n",
       "      <th>29</th>\n",
       "      <td>Opp.DefRebound</td>\n",
       "      <td>0.143415</td>\n",
       "      <td>0.008168</td>\n",
       "    </tr>\n",
       "    <tr>\n",
       "      <th>28</th>\n",
       "      <td>DefRebound</td>\n",
       "      <td>0.141301</td>\n",
       "      <td>0.010337</td>\n",
       "    </tr>\n",
       "    <tr>\n",
       "      <th>38</th>\n",
       "      <td>Opp.AssistsTurnoverRatio</td>\n",
       "      <td>0.083171</td>\n",
       "      <td>0.004779</td>\n",
       "    </tr>\n",
       "    <tr>\n",
       "      <th>36</th>\n",
       "      <td>AssistsTurnoverRatio</td>\n",
       "      <td>0.078293</td>\n",
       "      <td>0.007638</td>\n",
       "    </tr>\n",
       "    <tr>\n",
       "      <th>25</th>\n",
       "      <td>Opp.TotalFouls</td>\n",
       "      <td>0.006423</td>\n",
       "      <td>0.001614</td>\n",
       "    </tr>\n",
       "    <tr>\n",
       "      <th>41</th>\n",
       "      <td>Opp.GameChangers</td>\n",
       "      <td>0.005203</td>\n",
       "      <td>0.001694</td>\n",
       "    </tr>\n",
       "    <tr>\n",
       "      <th>13</th>\n",
       "      <td>Turnovers</td>\n",
       "      <td>0.004715</td>\n",
       "      <td>0.001829</td>\n",
       "    </tr>\n",
       "    <tr>\n",
       "      <th>37</th>\n",
       "      <td>GameChangers</td>\n",
       "      <td>0.004390</td>\n",
       "      <td>0.000474</td>\n",
       "    </tr>\n",
       "    <tr>\n",
       "      <th>30</th>\n",
       "      <td>X2PointShotAttempted</td>\n",
       "      <td>0.004065</td>\n",
       "      <td>0.001763</td>\n",
       "    </tr>\n",
       "    <tr>\n",
       "      <th>24</th>\n",
       "      <td>Opp.Turnovers</td>\n",
       "      <td>0.003659</td>\n",
       "      <td>0.001431</td>\n",
       "    </tr>\n",
       "    <tr>\n",
       "      <th>14</th>\n",
       "      <td>TotalFouls</td>\n",
       "      <td>0.003577</td>\n",
       "      <td>0.001244</td>\n",
       "    </tr>\n",
       "    <tr>\n",
       "      <th>31</th>\n",
       "      <td>Opp.2PointShotAttempted</td>\n",
       "      <td>0.002927</td>\n",
       "      <td>0.001694</td>\n",
       "    </tr>\n",
       "    <tr>\n",
       "      <th>21</th>\n",
       "      <td>Opp.Assists</td>\n",
       "      <td>0.002846</td>\n",
       "      <td>0.002057</td>\n",
       "    </tr>\n",
       "    <tr>\n",
       "      <th>17</th>\n",
       "      <td>Opp.FreeThrowsAttempted</td>\n",
       "      <td>0.002764</td>\n",
       "      <td>0.001654</td>\n",
       "    </tr>\n",
       "    <tr>\n",
       "      <th>6</th>\n",
       "      <td>FreeThrowsAttempted</td>\n",
       "      <td>0.002764</td>\n",
       "      <td>0.002320</td>\n",
       "    </tr>\n",
       "    <tr>\n",
       "      <th>10</th>\n",
       "      <td>Assists</td>\n",
       "      <td>0.002276</td>\n",
       "      <td>0.001079</td>\n",
       "    </tr>\n",
       "    <tr>\n",
       "      <th>18</th>\n",
       "      <td>Opp.FreeThrows.</td>\n",
       "      <td>0.002195</td>\n",
       "      <td>0.000415</td>\n",
       "    </tr>\n",
       "    <tr>\n",
       "      <th>3</th>\n",
       "      <td>Opponent</td>\n",
       "      <td>0.001789</td>\n",
       "      <td>0.000754</td>\n",
       "    </tr>\n",
       "    <tr>\n",
       "      <th>0</th>\n",
       "      <td>Team</td>\n",
       "      <td>0.001707</td>\n",
       "      <td>0.001789</td>\n",
       "    </tr>\n",
       "    <tr>\n",
       "      <th>20</th>\n",
       "      <td>Opp.TotalRebounds</td>\n",
       "      <td>0.001707</td>\n",
       "      <td>0.000650</td>\n",
       "    </tr>\n",
       "    <tr>\n",
       "      <th>16</th>\n",
       "      <td>Opp.3PointShotsAttempted</td>\n",
       "      <td>0.001626</td>\n",
       "      <td>0.001285</td>\n",
       "    </tr>\n",
       "    <tr>\n",
       "      <th>7</th>\n",
       "      <td>FreeThrows.</td>\n",
       "      <td>0.001382</td>\n",
       "      <td>0.000837</td>\n",
       "    </tr>\n",
       "    <tr>\n",
       "      <th>22</th>\n",
       "      <td>Opp.Steals</td>\n",
       "      <td>0.001220</td>\n",
       "      <td>0.000364</td>\n",
       "    </tr>\n",
       "    <tr>\n",
       "      <th>5</th>\n",
       "      <td>X3PointShotsAttempted</td>\n",
       "      <td>0.001057</td>\n",
       "      <td>0.000551</td>\n",
       "    </tr>\n",
       "  </tbody>\n",
       "</table>\n",
       "</div>"
      ],
      "text/plain": [
       "                     feature    weight       std\n",
       "29            Opp.DefRebound  0.143415  0.008168\n",
       "28                DefRebound  0.141301  0.010337\n",
       "38  Opp.AssistsTurnoverRatio  0.083171  0.004779\n",
       "36      AssistsTurnoverRatio  0.078293  0.007638\n",
       "25            Opp.TotalFouls  0.006423  0.001614\n",
       "41          Opp.GameChangers  0.005203  0.001694\n",
       "13                 Turnovers  0.004715  0.001829\n",
       "37              GameChangers  0.004390  0.000474\n",
       "30      X2PointShotAttempted  0.004065  0.001763\n",
       "24             Opp.Turnovers  0.003659  0.001431\n",
       "14                TotalFouls  0.003577  0.001244\n",
       "31   Opp.2PointShotAttempted  0.002927  0.001694\n",
       "21               Opp.Assists  0.002846  0.002057\n",
       "17   Opp.FreeThrowsAttempted  0.002764  0.001654\n",
       "6        FreeThrowsAttempted  0.002764  0.002320\n",
       "10                   Assists  0.002276  0.001079\n",
       "18           Opp.FreeThrows.  0.002195  0.000415\n",
       "3                   Opponent  0.001789  0.000754\n",
       "0                       Team  0.001707  0.001789\n",
       "20         Opp.TotalRebounds  0.001707  0.000650\n",
       "16  Opp.3PointShotsAttempted  0.001626  0.001285\n",
       "7                FreeThrows.  0.001382  0.000837\n",
       "22                Opp.Steals  0.001220  0.000364\n",
       "5      X3PointShotsAttempted  0.001057  0.000551"
      ]
     },
     "execution_count": 61,
     "metadata": {
      "tags": []
     },
     "output_type": "execute_result"
    }
   ],
   "source": [
    "p_importance = pd.DataFrame({'feature' : X_val.columns,\n",
    "                             'weight'  : pi.importances_mean,\n",
    "                             'std'     : pi.importances_std})\n",
    "\n",
    "p_importance.sort_values('weight', ascending=False).head(24)"
   ]
  },
  {
   "cell_type": "code",
   "execution_count": 62,
   "metadata": {
    "id": "XFSpTPxfXEbY"
   },
   "outputs": [],
   "source": [
    "import matplotlib.pyplot as plt"
   ]
  },
  {
   "cell_type": "code",
   "execution_count": 63,
   "metadata": {
    "colab": {
     "base_uri": "https://localhost:8080/",
     "height": 1000
    },
    "id": "l7FmFSsxXSaj",
    "outputId": "2894823a-9e9f-403b-b9a0-b16a3f269505"
   },
   "outputs": [
    {
     "name": "stdout",
     "output_type": "stream",
     "text": [
      "Collecting pdpbox\n",
      "\u001b[?25l  Downloading https://files.pythonhosted.org/packages/d5/6b/8b214723ff134f6b3f69a77c5bbd9d80db86ce01d3a970a5dbbab45c57fc/PDPbox-0.2.1.tar.gz (34.0MB)\n",
      "\u001b[K     |████████████████████████████████| 34.0MB 1.2MB/s \n",
      "\u001b[?25hRequirement already satisfied: pandas in /usr/local/lib/python3.7/dist-packages (from pdpbox) (1.1.5)\n",
      "Requirement already satisfied: numpy in /usr/local/lib/python3.7/dist-packages (from pdpbox) (1.19.5)\n",
      "Requirement already satisfied: scipy in /usr/local/lib/python3.7/dist-packages (from pdpbox) (1.4.1)\n",
      "Requirement already satisfied: joblib in /usr/local/lib/python3.7/dist-packages (from pdpbox) (1.0.1)\n",
      "Requirement already satisfied: psutil in /usr/local/lib/python3.7/dist-packages (from pdpbox) (5.4.8)\n",
      "Collecting matplotlib==3.1.1\n",
      "\u001b[?25l  Downloading https://files.pythonhosted.org/packages/19/7a/60bd79c5d79559150f8bba866dd7d434f0a170312e4d15e8aefa5faba294/matplotlib-3.1.1-cp37-cp37m-manylinux1_x86_64.whl (13.1MB)\n",
      "\u001b[K     |████████████████████████████████| 13.1MB 23.5MB/s \n",
      "\u001b[?25hRequirement already satisfied: sklearn in /usr/local/lib/python3.7/dist-packages (from pdpbox) (0.0)\n",
      "Requirement already satisfied: pytz>=2017.2 in /usr/local/lib/python3.7/dist-packages (from pandas->pdpbox) (2018.9)\n",
      "Requirement already satisfied: python-dateutil>=2.7.3 in /usr/local/lib/python3.7/dist-packages (from pandas->pdpbox) (2.8.1)\n",
      "Requirement already satisfied: cycler>=0.10 in /usr/local/lib/python3.7/dist-packages (from matplotlib==3.1.1->pdpbox) (0.10.0)\n",
      "Requirement already satisfied: kiwisolver>=1.0.1 in /usr/local/lib/python3.7/dist-packages (from matplotlib==3.1.1->pdpbox) (1.3.1)\n",
      "Requirement already satisfied: pyparsing!=2.0.4,!=2.1.2,!=2.1.6,>=2.0.1 in /usr/local/lib/python3.7/dist-packages (from matplotlib==3.1.1->pdpbox) (2.4.7)\n",
      "Requirement already satisfied: scikit-learn in /usr/local/lib/python3.7/dist-packages (from sklearn->pdpbox) (0.22.2.post1)\n",
      "Requirement already satisfied: six>=1.5 in /usr/local/lib/python3.7/dist-packages (from python-dateutil>=2.7.3->pandas->pdpbox) (1.15.0)\n",
      "Building wheels for collected packages: pdpbox\n",
      "  Building wheel for pdpbox (setup.py) ... \u001b[?25l\u001b[?25hdone\n",
      "  Created wheel for pdpbox: filename=PDPbox-0.2.1-cp37-none-any.whl size=35758228 sha256=9d7c5c0bb45653c9907e630eeb2b451429f2408bcaf8b9a15dae10a478f9cf40\n",
      "  Stored in directory: /root/.cache/pip/wheels/c8/13/11/ecac74c6192790c94f6f5d919f1a388f927b9febb690e45eef\n",
      "Successfully built pdpbox\n",
      "\u001b[31mERROR: albumentations 0.1.12 has requirement imgaug<0.2.7,>=0.2.5, but you'll have imgaug 0.2.9 which is incompatible.\u001b[0m\n",
      "Installing collected packages: matplotlib, pdpbox\n",
      "  Found existing installation: matplotlib 3.2.2\n",
      "    Uninstalling matplotlib-3.2.2:\n",
      "      Successfully uninstalled matplotlib-3.2.2\n",
      "Successfully installed matplotlib-3.1.1 pdpbox-0.2.1\n"
     ]
    },
    {
     "data": {
      "application/vnd.colab-display-data+json": {
       "pip_warning": {
        "packages": [
         "matplotlib",
         "mpl_toolkits"
        ]
       }
      }
     },
     "metadata": {
      "tags": []
     },
     "output_type": "display_data"
    },
    {
     "name": "stdout",
     "output_type": "stream",
     "text": [
      "Collecting shap\n",
      "\u001b[?25l  Downloading https://files.pythonhosted.org/packages/b9/f4/c5b95cddae15be80f8e58b25edceca105aa83c0b8c86a1edad24a6af80d3/shap-0.39.0.tar.gz (356kB)\n",
      "\r",
      "\u001b[K     |█                               | 10kB 17.2MB/s eta 0:00:01\r",
      "\u001b[K     |█▉                              | 20kB 23.7MB/s eta 0:00:01\r",
      "\u001b[K     |██▊                             | 30kB 11.1MB/s eta 0:00:01\r",
      "\u001b[K     |███▊                            | 40kB 9.0MB/s eta 0:00:01\r",
      "\u001b[K     |████▋                           | 51kB 4.3MB/s eta 0:00:01\r",
      "\u001b[K     |█████▌                          | 61kB 5.1MB/s eta 0:00:01\r",
      "\u001b[K     |██████▍                         | 71kB 5.0MB/s eta 0:00:01\r",
      "\u001b[K     |███████▍                        | 81kB 5.5MB/s eta 0:00:01\r",
      "\u001b[K     |████████▎                       | 92kB 5.7MB/s eta 0:00:01\r",
      "\u001b[K     |█████████▏                      | 102kB 6.0MB/s eta 0:00:01\r",
      "\u001b[K     |██████████▏                     | 112kB 6.0MB/s eta 0:00:01\r",
      "\u001b[K     |███████████                     | 122kB 6.0MB/s eta 0:00:01\r",
      "\u001b[K     |████████████                    | 133kB 6.0MB/s eta 0:00:01\r",
      "\u001b[K     |████████████▉                   | 143kB 6.0MB/s eta 0:00:01\r",
      "\u001b[K     |█████████████▉                  | 153kB 6.0MB/s eta 0:00:01\r",
      "\u001b[K     |██████████████▊                 | 163kB 6.0MB/s eta 0:00:01\r",
      "\u001b[K     |███████████████▋                | 174kB 6.0MB/s eta 0:00:01\r",
      "\u001b[K     |████████████████▋               | 184kB 6.0MB/s eta 0:00:01\r",
      "\u001b[K     |█████████████████▌              | 194kB 6.0MB/s eta 0:00:01\r",
      "\u001b[K     |██████████████████▍             | 204kB 6.0MB/s eta 0:00:01\r",
      "\u001b[K     |███████████████████▎            | 215kB 6.0MB/s eta 0:00:01\r",
      "\u001b[K     |████████████████████▎           | 225kB 6.0MB/s eta 0:00:01\r",
      "\u001b[K     |█████████████████████▏          | 235kB 6.0MB/s eta 0:00:01\r",
      "\u001b[K     |██████████████████████          | 245kB 6.0MB/s eta 0:00:01\r",
      "\u001b[K     |███████████████████████         | 256kB 6.0MB/s eta 0:00:01\r",
      "\u001b[K     |████████████████████████        | 266kB 6.0MB/s eta 0:00:01\r",
      "\u001b[K     |████████████████████████▉       | 276kB 6.0MB/s eta 0:00:01\r",
      "\u001b[K     |█████████████████████████▊      | 286kB 6.0MB/s eta 0:00:01\r",
      "\u001b[K     |██████████████████████████▊     | 296kB 6.0MB/s eta 0:00:01\r",
      "\u001b[K     |███████████████████████████▋    | 307kB 6.0MB/s eta 0:00:01\r",
      "\u001b[K     |████████████████████████████▌   | 317kB 6.0MB/s eta 0:00:01\r",
      "\u001b[K     |█████████████████████████████▍  | 327kB 6.0MB/s eta 0:00:01\r",
      "\u001b[K     |██████████████████████████████▍ | 337kB 6.0MB/s eta 0:00:01\r",
      "\u001b[K     |███████████████████████████████▎| 348kB 6.0MB/s eta 0:00:01\r",
      "\u001b[K     |████████████████████████████████| 358kB 6.0MB/s \n",
      "\u001b[?25hRequirement already satisfied: numpy in /usr/local/lib/python3.7/dist-packages (from shap) (1.19.5)\n",
      "Requirement already satisfied: scipy in /usr/local/lib/python3.7/dist-packages (from shap) (1.4.1)\n",
      "Requirement already satisfied: scikit-learn in /usr/local/lib/python3.7/dist-packages (from shap) (0.22.2.post1)\n",
      "Requirement already satisfied: pandas in /usr/local/lib/python3.7/dist-packages (from shap) (1.1.5)\n",
      "Requirement already satisfied: tqdm>4.25.0 in /usr/local/lib/python3.7/dist-packages (from shap) (4.41.1)\n",
      "Collecting slicer==0.0.7\n",
      "  Downloading https://files.pythonhosted.org/packages/78/c2/b3f55dfdb8af9812fdb9baf70cacf3b9e82e505b2bd4324d588888b81202/slicer-0.0.7-py3-none-any.whl\n",
      "Requirement already satisfied: numba in /usr/local/lib/python3.7/dist-packages (from shap) (0.51.2)\n",
      "Requirement already satisfied: cloudpickle in /usr/local/lib/python3.7/dist-packages (from shap) (1.3.0)\n",
      "Requirement already satisfied: joblib>=0.11 in /usr/local/lib/python3.7/dist-packages (from scikit-learn->shap) (1.0.1)\n",
      "Requirement already satisfied: pytz>=2017.2 in /usr/local/lib/python3.7/dist-packages (from pandas->shap) (2018.9)\n",
      "Requirement already satisfied: python-dateutil>=2.7.3 in /usr/local/lib/python3.7/dist-packages (from pandas->shap) (2.8.1)\n",
      "Requirement already satisfied: setuptools in /usr/local/lib/python3.7/dist-packages (from numba->shap) (54.1.2)\n",
      "Requirement already satisfied: llvmlite<0.35,>=0.34.0.dev0 in /usr/local/lib/python3.7/dist-packages (from numba->shap) (0.34.0)\n",
      "Requirement already satisfied: six>=1.5 in /usr/local/lib/python3.7/dist-packages (from python-dateutil>=2.7.3->pandas->shap) (1.15.0)\n",
      "Building wheels for collected packages: shap\n",
      "  Building wheel for shap (setup.py) ... \u001b[?25l\u001b[?25hdone\n",
      "  Created wheel for shap: filename=shap-0.39.0-cp37-cp37m-linux_x86_64.whl size=491630 sha256=048444106e8bbe375188505984e78173cd0bb242d54806b51a84dcf4eb34b2c6\n",
      "  Stored in directory: /root/.cache/pip/wheels/15/27/f5/a8ab9da52fd159aae6477b5ede6eaaec69fd130fa0fa59f283\n",
      "Successfully built shap\n",
      "Installing collected packages: slicer, shap\n",
      "Successfully installed shap-0.39.0 slicer-0.0.7\n"
     ]
    }
   ],
   "source": [
    "\n",
    "!pip install pdpbox\n",
    "!pip install shap"
   ]
  },
  {
   "cell_type": "code",
   "execution_count": 64,
   "metadata": {
    "colab": {
     "base_uri": "https://localhost:8080/",
     "height": 309
    },
    "id": "A7DJai0mnn8o",
    "outputId": "7b783337-4533-4de8-9bc4-9123b3028d1d"
   },
   "outputs": [
    {
     "data": {
      "text/html": [
       "<div>\n",
       "<style scoped>\n",
       "    .dataframe tbody tr th:only-of-type {\n",
       "        vertical-align: middle;\n",
       "    }\n",
       "\n",
       "    .dataframe tbody tr th {\n",
       "        vertical-align: top;\n",
       "    }\n",
       "\n",
       "    .dataframe thead th {\n",
       "        text-align: right;\n",
       "    }\n",
       "</style>\n",
       "<table border=\"1\" class=\"dataframe\">\n",
       "  <thead>\n",
       "    <tr style=\"text-align: right;\">\n",
       "      <th></th>\n",
       "      <th>Team</th>\n",
       "      <th>Date</th>\n",
       "      <th>Home</th>\n",
       "      <th>Opponent</th>\n",
       "      <th>FieldGoalsAttempted</th>\n",
       "      <th>X3PointShotsAttempted</th>\n",
       "      <th>FreeThrowsAttempted</th>\n",
       "      <th>FreeThrows.</th>\n",
       "      <th>OffRebounds</th>\n",
       "      <th>TotalRebounds</th>\n",
       "      <th>Assists</th>\n",
       "      <th>Steals</th>\n",
       "      <th>Blocks</th>\n",
       "      <th>Turnovers</th>\n",
       "      <th>TotalFouls</th>\n",
       "      <th>Opp.FieldGoalsAttempted</th>\n",
       "      <th>Opp.3PointShotsAttempted</th>\n",
       "      <th>Opp.FreeThrowsAttempted</th>\n",
       "      <th>Opp.FreeThrows.</th>\n",
       "      <th>Opp.OffRebounds</th>\n",
       "      <th>Opp.TotalRebounds</th>\n",
       "      <th>Opp.Assists</th>\n",
       "      <th>Opp.Steals</th>\n",
       "      <th>Opp.Blocks</th>\n",
       "      <th>Opp.Turnovers</th>\n",
       "      <th>Opp.TotalFouls</th>\n",
       "      <th>EastOpponent</th>\n",
       "      <th>WestOpponent</th>\n",
       "      <th>DefRebound</th>\n",
       "      <th>Opp.DefRebound</th>\n",
       "      <th>X2PointShotAttempted</th>\n",
       "      <th>Opp.2PointShotAttempted</th>\n",
       "      <th>HighFreeThrow%</th>\n",
       "      <th>Opp.HighFreeThrow%</th>\n",
       "      <th>HighRebounds</th>\n",
       "      <th>OppHighRebounds</th>\n",
       "      <th>AssistsTurnoverRatio</th>\n",
       "      <th>GameChangers</th>\n",
       "      <th>Opp.AssistsTurnoverRatio</th>\n",
       "      <th>HighFoul%</th>\n",
       "      <th>Opp.HighFoul%</th>\n",
       "      <th>Opp.GameChangers</th>\n",
       "    </tr>\n",
       "  </thead>\n",
       "  <tbody>\n",
       "    <tr>\n",
       "      <th>4920</th>\n",
       "      <td>ATL</td>\n",
       "      <td>2016-10-27</td>\n",
       "      <td>True</td>\n",
       "      <td>WAS</td>\n",
       "      <td>88</td>\n",
       "      <td>26</td>\n",
       "      <td>18</td>\n",
       "      <td>0.778</td>\n",
       "      <td>14</td>\n",
       "      <td>52</td>\n",
       "      <td>28</td>\n",
       "      <td>13</td>\n",
       "      <td>7</td>\n",
       "      <td>21</td>\n",
       "      <td>19</td>\n",
       "      <td>94</td>\n",
       "      <td>20</td>\n",
       "      <td>18</td>\n",
       "      <td>0.722</td>\n",
       "      <td>12</td>\n",
       "      <td>40</td>\n",
       "      <td>25</td>\n",
       "      <td>14</td>\n",
       "      <td>4</td>\n",
       "      <td>19</td>\n",
       "      <td>20</td>\n",
       "      <td>True</td>\n",
       "      <td>False</td>\n",
       "      <td>38</td>\n",
       "      <td>28</td>\n",
       "      <td>62</td>\n",
       "      <td>74</td>\n",
       "      <td>False</td>\n",
       "      <td>False</td>\n",
       "      <td>False</td>\n",
       "      <td>False</td>\n",
       "      <td>1.333333</td>\n",
       "      <td>20</td>\n",
       "      <td>1.315789</td>\n",
       "      <td>False</td>\n",
       "      <td>False</td>\n",
       "      <td>18</td>\n",
       "    </tr>\n",
       "    <tr>\n",
       "      <th>4921</th>\n",
       "      <td>ATL</td>\n",
       "      <td>2016-10-29</td>\n",
       "      <td>False</td>\n",
       "      <td>PHI</td>\n",
       "      <td>85</td>\n",
       "      <td>20</td>\n",
       "      <td>23</td>\n",
       "      <td>0.652</td>\n",
       "      <td>6</td>\n",
       "      <td>47</td>\n",
       "      <td>31</td>\n",
       "      <td>11</td>\n",
       "      <td>7</td>\n",
       "      <td>12</td>\n",
       "      <td>14</td>\n",
       "      <td>80</td>\n",
       "      <td>18</td>\n",
       "      <td>15</td>\n",
       "      <td>0.733</td>\n",
       "      <td>4</td>\n",
       "      <td>39</td>\n",
       "      <td>16</td>\n",
       "      <td>9</td>\n",
       "      <td>5</td>\n",
       "      <td>20</td>\n",
       "      <td>20</td>\n",
       "      <td>True</td>\n",
       "      <td>False</td>\n",
       "      <td>41</td>\n",
       "      <td>35</td>\n",
       "      <td>65</td>\n",
       "      <td>62</td>\n",
       "      <td>False</td>\n",
       "      <td>False</td>\n",
       "      <td>False</td>\n",
       "      <td>False</td>\n",
       "      <td>2.583333</td>\n",
       "      <td>18</td>\n",
       "      <td>0.800000</td>\n",
       "      <td>False</td>\n",
       "      <td>False</td>\n",
       "      <td>14</td>\n",
       "    </tr>\n",
       "    <tr>\n",
       "      <th>4922</th>\n",
       "      <td>ATL</td>\n",
       "      <td>2016-10-31</td>\n",
       "      <td>True</td>\n",
       "      <td>SAC</td>\n",
       "      <td>79</td>\n",
       "      <td>30</td>\n",
       "      <td>47</td>\n",
       "      <td>0.617</td>\n",
       "      <td>17</td>\n",
       "      <td>43</td>\n",
       "      <td>24</td>\n",
       "      <td>11</td>\n",
       "      <td>6</td>\n",
       "      <td>13</td>\n",
       "      <td>20</td>\n",
       "      <td>75</td>\n",
       "      <td>23</td>\n",
       "      <td>19</td>\n",
       "      <td>0.684</td>\n",
       "      <td>6</td>\n",
       "      <td>38</td>\n",
       "      <td>26</td>\n",
       "      <td>10</td>\n",
       "      <td>6</td>\n",
       "      <td>19</td>\n",
       "      <td>34</td>\n",
       "      <td>False</td>\n",
       "      <td>True</td>\n",
       "      <td>26</td>\n",
       "      <td>32</td>\n",
       "      <td>49</td>\n",
       "      <td>52</td>\n",
       "      <td>False</td>\n",
       "      <td>False</td>\n",
       "      <td>False</td>\n",
       "      <td>False</td>\n",
       "      <td>1.846154</td>\n",
       "      <td>17</td>\n",
       "      <td>1.368421</td>\n",
       "      <td>False</td>\n",
       "      <td>True</td>\n",
       "      <td>16</td>\n",
       "    </tr>\n",
       "    <tr>\n",
       "      <th>4923</th>\n",
       "      <td>ATL</td>\n",
       "      <td>2016-11-02</td>\n",
       "      <td>True</td>\n",
       "      <td>LAL</td>\n",
       "      <td>85</td>\n",
       "      <td>32</td>\n",
       "      <td>29</td>\n",
       "      <td>0.793</td>\n",
       "      <td>10</td>\n",
       "      <td>37</td>\n",
       "      <td>30</td>\n",
       "      <td>10</td>\n",
       "      <td>1</td>\n",
       "      <td>18</td>\n",
       "      <td>19</td>\n",
       "      <td>90</td>\n",
       "      <td>22</td>\n",
       "      <td>20</td>\n",
       "      <td>0.900</td>\n",
       "      <td>11</td>\n",
       "      <td>42</td>\n",
       "      <td>24</td>\n",
       "      <td>11</td>\n",
       "      <td>9</td>\n",
       "      <td>15</td>\n",
       "      <td>25</td>\n",
       "      <td>False</td>\n",
       "      <td>True</td>\n",
       "      <td>27</td>\n",
       "      <td>31</td>\n",
       "      <td>53</td>\n",
       "      <td>68</td>\n",
       "      <td>False</td>\n",
       "      <td>True</td>\n",
       "      <td>False</td>\n",
       "      <td>False</td>\n",
       "      <td>1.666667</td>\n",
       "      <td>11</td>\n",
       "      <td>1.600000</td>\n",
       "      <td>False</td>\n",
       "      <td>False</td>\n",
       "      <td>20</td>\n",
       "    </tr>\n",
       "    <tr>\n",
       "      <th>4924</th>\n",
       "      <td>ATL</td>\n",
       "      <td>2016-11-04</td>\n",
       "      <td>False</td>\n",
       "      <td>WAS</td>\n",
       "      <td>83</td>\n",
       "      <td>25</td>\n",
       "      <td>36</td>\n",
       "      <td>0.639</td>\n",
       "      <td>10</td>\n",
       "      <td>47</td>\n",
       "      <td>22</td>\n",
       "      <td>12</td>\n",
       "      <td>3</td>\n",
       "      <td>18</td>\n",
       "      <td>24</td>\n",
       "      <td>80</td>\n",
       "      <td>20</td>\n",
       "      <td>35</td>\n",
       "      <td>0.800</td>\n",
       "      <td>11</td>\n",
       "      <td>46</td>\n",
       "      <td>13</td>\n",
       "      <td>7</td>\n",
       "      <td>3</td>\n",
       "      <td>19</td>\n",
       "      <td>23</td>\n",
       "      <td>True</td>\n",
       "      <td>False</td>\n",
       "      <td>37</td>\n",
       "      <td>35</td>\n",
       "      <td>58</td>\n",
       "      <td>60</td>\n",
       "      <td>False</td>\n",
       "      <td>False</td>\n",
       "      <td>False</td>\n",
       "      <td>False</td>\n",
       "      <td>1.222222</td>\n",
       "      <td>15</td>\n",
       "      <td>0.684211</td>\n",
       "      <td>False</td>\n",
       "      <td>False</td>\n",
       "      <td>10</td>\n",
       "    </tr>\n",
       "  </tbody>\n",
       "</table>\n",
       "</div>"
      ],
      "text/plain": [
       "     Team        Date   Home  ... HighFoul%  Opp.HighFoul%  Opp.GameChangers\n",
       "4920  ATL  2016-10-27   True  ...     False          False                18\n",
       "4921  ATL  2016-10-29  False  ...     False          False                14\n",
       "4922  ATL  2016-10-31   True  ...     False           True                16\n",
       "4923  ATL  2016-11-02   True  ...     False          False                20\n",
       "4924  ATL  2016-11-04  False  ...     False          False                10\n",
       "\n",
       "[5 rows x 42 columns]"
      ]
     },
     "execution_count": 64,
     "metadata": {
      "tags": []
     },
     "output_type": "execute_result"
    }
   ],
   "source": [
    "X_val.head()"
   ]
  },
  {
   "cell_type": "code",
   "execution_count": 65,
   "metadata": {
    "id": "UiypBdGPZ0pE"
   },
   "outputs": [],
   "source": [
    "from pdpbox.pdp import pdp_interact, pdp_interact_plot\n",
    "\n",
    "features = ['Turnovers', 'TotalFouls']\n",
    "\n",
    "interaction = pdp_interact(\n",
    "    model=gb,\n",
    "    dataset=X_val,\n",
    "    model_features=X_val.columns,\n",
    "    features=features\n",
    ")"
   ]
  },
  {
   "cell_type": "code",
   "execution_count": 66,
   "metadata": {
    "colab": {
     "base_uri": "https://localhost:8080/",
     "height": 872
    },
    "id": "KbBQlhnL5cyJ",
    "outputId": "3e6e462b-9e2a-44bd-db76-88964562ff17"
   },
   "outputs": [
    {
     "data": {
      "text/plain": [
       "(<Figure size 756x900 with 5 Axes>,\n",
       " {'pdp_inter_ax': {'_pdp_inter_ax': <matplotlib.axes._subplots.AxesSubplot at 0x7f0436ee0ed0>,\n",
       "   '_pdp_x_ax': <matplotlib.axes._subplots.AxesSubplot at 0x7f0436f624d0>,\n",
       "   '_pdp_y_ax': <matplotlib.axes._subplots.AxesSubplot at 0x7f0436f63890>},\n",
       "  'title_ax': <matplotlib.axes._subplots.AxesSubplot at 0x7f0436f41fd0>})"
      ]
     },
     "execution_count": 66,
     "metadata": {
      "tags": []
     },
     "output_type": "execute_result"
    },
    {
     "name": "stderr",
     "output_type": "stream",
     "text": [
      "findfont: Font family ['Arial'] not found. Falling back to DejaVu Sans.\n",
      "findfont: Font family ['Arial'] not found. Falling back to DejaVu Sans.\n",
      "findfont: Font family ['Arial'] not found. Falling back to DejaVu Sans.\n",
      "findfont: Font family ['Arial'] not found. Falling back to DejaVu Sans.\n"
     ]
    },
    {
     "data": {
      "image/png": "[encoded data removed]",
      "text/plain": [
       "<Figure size 756x900 with 5 Axes>"
      ]
     },
     "metadata": {
      "needs_background": "light",
      "tags": []
     },
     "output_type": "display_data"
    }
   ],
   "source": [
    "pdp_interact_plot(interaction, plot_type='grid', feature_names=features, plot_pdp=True)"
   ]
  },
  {
   "cell_type": "markdown",
   "metadata": {
    "id": "2MO2b-pC5r3P"
   },
   "source": [
    "**The Plot above shows how as Opponents Defense Rebounds begin to increase and their assist turnover ratio increase, the likelyhood of the home team winning decreases expontentially. This makes perfect sense in the game of basketball. As the Opponent accumulates more rebounds, the home team now has less chances to score. Rebounds protect teams from \"second chance points\", a second chance point means the other team has an opportunity of scoring again on the same possesion.**"
   ]
  },
  {
   "cell_type": "code",
   "execution_count": 67,
   "metadata": {
    "colab": {
     "base_uri": "https://localhost:8080/",
     "height": 801
    },
    "id": "cS2efAxx8FpN",
    "outputId": "34623c73-c699-4e70-dd84-a4fcb6e9ffe0"
   },
   "outputs": [
    {
     "data": {
      "text/plain": [
       "(<Figure size 756x900 with 5 Axes>,\n",
       " {'pdp_inter_ax': {'_pdp_inter_ax': <matplotlib.axes._subplots.AxesSubplot at 0x7f042e341b50>,\n",
       "   '_pdp_x_ax': <matplotlib.axes._subplots.AxesSubplot at 0x7f042ec26f90>,\n",
       "   '_pdp_y_ax': <matplotlib.axes._subplots.AxesSubplot at 0x7f042e3d0510>},\n",
       "  'title_ax': <matplotlib.axes._subplots.AxesSubplot at 0x7f0436f7a790>})"
      ]
     },
     "execution_count": 67,
     "metadata": {
      "tags": []
     },
     "output_type": "execute_result"
    },
    {
     "data": {
      "image/png": "[encoded data removed]",
      "text/plain": [
       "<Figure size 756x900 with 5 Axes>"
      ]
     },
     "metadata": {
      "needs_background": "light",
      "tags": []
     },
     "output_type": "display_data"
    }
   ],
   "source": [
    "features = ['Opp.DefRebound','Opp.AssistsTurnoverRatio']\n",
    "\n",
    "interaction = pdp_interact(\n",
    "    model=gb,\n",
    "    dataset=X_val,\n",
    "    model_features=X_val.columns,\n",
    "    features=features\n",
    ")\n",
    "\n",
    "pdp_interact_plot(interaction, plot_type='grid', feature_names=features, plot_pdp=True)"
   ]
  },
  {
   "cell_type": "markdown",
   "metadata": {
    "id": "fWtRx_X_C3am"
   },
   "source": [
    "**The Y axis has a label \"GameChangers\", not this is not a normal term used to describe the features I implemented, however; I believe the name is correct. Steals and Blocks when playing defense give the other team momentum. You not only stopped the other team from scoring, but you didnt even give them the chance to score. When you steal the ball it is deflating to the person you stole it from. When you block someones shot, honestly, it just feels embarassing as the person who shot it. No surprise to me that as the opponents GameChangers increased, so did the Home teams chances of winning. Now what is interesting about this is how important fouls are. An opposing team can have a high accumulation of game changers, but even if they still have high fouls, the home teams chances of winning don't change that much**"
   ]
  },
  {
   "cell_type": "code",
   "execution_count": 68,
   "metadata": {
    "colab": {
     "base_uri": "https://localhost:8080/",
     "height": 801
    },
    "id": "McWHphD9lDDv",
    "outputId": "7ec940c6-c998-42ed-cff2-57ba37f151c0"
   },
   "outputs": [
    {
     "data": {
      "text/plain": [
       "(<Figure size 756x900 with 5 Axes>,\n",
       " {'pdp_inter_ax': {'_pdp_inter_ax': <matplotlib.axes._subplots.AxesSubplot at 0x7f042e1b3110>,\n",
       "   '_pdp_x_ax': <matplotlib.axes._subplots.AxesSubplot at 0x7f042ec8f250>,\n",
       "   '_pdp_y_ax': <matplotlib.axes._subplots.AxesSubplot at 0x7f042ec89c10>},\n",
       "  'title_ax': <matplotlib.axes._subplots.AxesSubplot at 0x7f0436dac550>})"
      ]
     },
     "execution_count": 68,
     "metadata": {
      "tags": []
     },
     "output_type": "execute_result"
    },
    {
     "data": {
      "image/png": "[encoded data removed]",
      "text/plain": [
       "<Figure size 756x900 with 5 Axes>"
      ]
     },
     "metadata": {
      "needs_background": "light",
      "tags": []
     },
     "output_type": "display_data"
    }
   ],
   "source": [
    "features = ['Opp.DefRebound','Opp.AssistsTurnoverRatio']\n",
    "\n",
    "interaction = pdp_interact(\n",
    "    model=gb,\n",
    "    dataset=X_val,\n",
    "    model_features=X_val.columns,\n",
    "    features=features\n",
    ")\n",
    "\n",
    "pdp_interact_plot(interaction, plot_type='grid', feature_names=features, plot_pdp=True)"
   ]
  },
  {
   "cell_type": "code",
   "execution_count": 69,
   "metadata": {
    "colab": {
     "base_uri": "https://localhost:8080/"
    },
    "id": "Hl7GtitWQB6x",
    "outputId": "6360cfb9-1d6f-442d-931a-b9d657ec93ed"
   },
   "outputs": [
    {
     "name": "stdout",
     "output_type": "stream",
     "text": [
      "3\n"
     ]
    }
   ],
   "source": [
    "s = \"sts\"\n",
    "print(len(s))"
   ]
  },
  {
   "cell_type": "code",
   "execution_count": 69,
   "metadata": {
    "id": "roMd2Yv9QFKf"
   },
   "outputs": [],
   "source": []
  }
 ],
 "metadata": {
  "colab": {
   "name": "BuildWeekLucasPetrusNBAFinalDraft.ipynb",
   "provenance": [],
   "toc_visible": true
  },
  "kernelspec": {
   "display_name": "Python 3",
   "language": "python",
   "name": "python3"
  },
  "language_info": {
   "codemirror_mode": {
    "name": "ipython",
    "version": 3
   },
   "file_extension": ".py",
   "mimetype": "text/x-python",
   "name": "python",
   "nbconvert_exporter": "python",
   "pygments_lexer": "ipython3",
   "version": "3.8.2"
  }
 },
 "nbformat": 4,
 "nbformat_minor": 1
}
